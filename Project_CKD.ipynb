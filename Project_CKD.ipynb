{
  "nbformat": 4,
  "nbformat_minor": 0,
  "metadata": {
    "colab": {
      "provenance": [],
      "include_colab_link": true
    },
    "kernelspec": {
      "display_name": "Python 3",
      "name": "python3"
    }
  },
  "cells": [
    {
      "cell_type": "markdown",
      "metadata": {
        "id": "view-in-github",
        "colab_type": "text"
      },
      "source": [
        "<a href=\"https://colab.research.google.com/github/Shakib-Mahmud-Ayon/BME-310-Project/blob/main/Project_CKD.ipynb\" target=\"_parent\"><img src=\"https://colab.research.google.com/assets/colab-badge.svg\" alt=\"Open In Colab\"/></a>"
      ]
    },
    {
      "cell_type": "code",
      "metadata": {
        "id": "t0tkfTe0FzRF"
      },
      "source": [
        "# Libreries\n",
        "\n",
        "import numpy as np\n",
        "import pandas as pd\n",
        "import sklearn\n",
        "import matplotlib.pyplot as plt\n",
        "from sklearn import metrics\n",
        "from sklearn.model_selection import train_test_split,cross_validate,ShuffleSplit\n",
        "from sklearn.metrics import make_scorer,recall_score,accuracy_score,precision_score\n",
        "from sklearn.preprocessing import LabelEncoder, MinMaxScaler\n",
        "import glob\n",
        "from keras.models import Sequential, load_model\n",
        "from keras.layers import Dense\n",
        "import keras as k"
      ],
      "execution_count": null,
      "outputs": []
    },
    {
      "cell_type": "markdown",
      "metadata": {
        "id": "sTO1dQ8FP2hx"
      },
      "source": [
        "# Loading the data"
      ]
    },
    {
      "cell_type": "code",
      "metadata": {
        "colab": {
          "base_uri": "https://localhost:8080/",
          "height": 203
        },
        "id": "IgelDJCTN5sr",
        "outputId": "1cc00cbb-9d10-441d-bc84-603cec04e4ae"
      },
      "source": [
        "df = pd.read_csv('/content/chronic_kidney_disease_indexed_new.csv')\n",
        "df.head()"
      ],
      "execution_count": null,
      "outputs": [
        {
          "output_type": "execute_result",
          "data": {
            "text/html": [
              "<div>\n",
              "<style scoped>\n",
              "    .dataframe tbody tr th:only-of-type {\n",
              "        vertical-align: middle;\n",
              "    }\n",
              "\n",
              "    .dataframe tbody tr th {\n",
              "        vertical-align: top;\n",
              "    }\n",
              "\n",
              "    .dataframe thead th {\n",
              "        text-align: right;\n",
              "    }\n",
              "</style>\n",
              "<table border=\"1\" class=\"dataframe\">\n",
              "  <thead>\n",
              "    <tr style=\"text-align: right;\">\n",
              "      <th></th>\n",
              "      <th>0</th>\n",
              "      <th>1</th>\n",
              "      <th>2</th>\n",
              "      <th>3</th>\n",
              "      <th>4</th>\n",
              "      <th>5</th>\n",
              "      <th>6</th>\n",
              "      <th>7</th>\n",
              "      <th>8</th>\n",
              "      <th>9</th>\n",
              "      <th>10</th>\n",
              "      <th>11</th>\n",
              "      <th>12</th>\n",
              "      <th>13</th>\n",
              "      <th>14</th>\n",
              "      <th>15</th>\n",
              "      <th>16</th>\n",
              "      <th>17</th>\n",
              "      <th>18</th>\n",
              "      <th>19</th>\n",
              "      <th>20</th>\n",
              "      <th>21</th>\n",
              "      <th>22</th>\n",
              "      <th>23</th>\n",
              "      <th>24</th>\n",
              "    </tr>\n",
              "  </thead>\n",
              "  <tbody>\n",
              "    <tr>\n",
              "      <th>0</th>\n",
              "      <td>48</td>\n",
              "      <td>80</td>\n",
              "      <td>1.02</td>\n",
              "      <td>1</td>\n",
              "      <td>0</td>\n",
              "      <td>?</td>\n",
              "      <td>normal</td>\n",
              "      <td>notpresent</td>\n",
              "      <td>notpresent</td>\n",
              "      <td>121</td>\n",
              "      <td>36</td>\n",
              "      <td>1.2</td>\n",
              "      <td>?</td>\n",
              "      <td>?</td>\n",
              "      <td>15.4</td>\n",
              "      <td>44</td>\n",
              "      <td>7800</td>\n",
              "      <td>5.2</td>\n",
              "      <td>yes</td>\n",
              "      <td>yes</td>\n",
              "      <td>no</td>\n",
              "      <td>good</td>\n",
              "      <td>no</td>\n",
              "      <td>no</td>\n",
              "      <td>ckd</td>\n",
              "    </tr>\n",
              "    <tr>\n",
              "      <th>1</th>\n",
              "      <td>7</td>\n",
              "      <td>50</td>\n",
              "      <td>1.02</td>\n",
              "      <td>4</td>\n",
              "      <td>0</td>\n",
              "      <td>?</td>\n",
              "      <td>normal</td>\n",
              "      <td>notpresent</td>\n",
              "      <td>notpresent</td>\n",
              "      <td>?</td>\n",
              "      <td>18</td>\n",
              "      <td>0.8</td>\n",
              "      <td>?</td>\n",
              "      <td>?</td>\n",
              "      <td>11.3</td>\n",
              "      <td>38</td>\n",
              "      <td>6000</td>\n",
              "      <td>?</td>\n",
              "      <td>no</td>\n",
              "      <td>no</td>\n",
              "      <td>no</td>\n",
              "      <td>good</td>\n",
              "      <td>no</td>\n",
              "      <td>no</td>\n",
              "      <td>ckd</td>\n",
              "    </tr>\n",
              "    <tr>\n",
              "      <th>2</th>\n",
              "      <td>62</td>\n",
              "      <td>80</td>\n",
              "      <td>1.01</td>\n",
              "      <td>2</td>\n",
              "      <td>3</td>\n",
              "      <td>normal</td>\n",
              "      <td>normal</td>\n",
              "      <td>notpresent</td>\n",
              "      <td>notpresent</td>\n",
              "      <td>423</td>\n",
              "      <td>53</td>\n",
              "      <td>1.8</td>\n",
              "      <td>?</td>\n",
              "      <td>?</td>\n",
              "      <td>9.6</td>\n",
              "      <td>31</td>\n",
              "      <td>7500</td>\n",
              "      <td>?</td>\n",
              "      <td>no</td>\n",
              "      <td>yes</td>\n",
              "      <td>no</td>\n",
              "      <td>poor</td>\n",
              "      <td>no</td>\n",
              "      <td>yes</td>\n",
              "      <td>ckd</td>\n",
              "    </tr>\n",
              "    <tr>\n",
              "      <th>3</th>\n",
              "      <td>48</td>\n",
              "      <td>70</td>\n",
              "      <td>1.005</td>\n",
              "      <td>4</td>\n",
              "      <td>0</td>\n",
              "      <td>normal</td>\n",
              "      <td>abnormal</td>\n",
              "      <td>present</td>\n",
              "      <td>notpresent</td>\n",
              "      <td>117</td>\n",
              "      <td>56</td>\n",
              "      <td>3.8</td>\n",
              "      <td>111</td>\n",
              "      <td>2.5</td>\n",
              "      <td>11.2</td>\n",
              "      <td>32</td>\n",
              "      <td>6700</td>\n",
              "      <td>3.9</td>\n",
              "      <td>yes</td>\n",
              "      <td>no</td>\n",
              "      <td>no</td>\n",
              "      <td>poor</td>\n",
              "      <td>yes</td>\n",
              "      <td>yes</td>\n",
              "      <td>ckd</td>\n",
              "    </tr>\n",
              "    <tr>\n",
              "      <th>4</th>\n",
              "      <td>51</td>\n",
              "      <td>80</td>\n",
              "      <td>1.01</td>\n",
              "      <td>2</td>\n",
              "      <td>0</td>\n",
              "      <td>normal</td>\n",
              "      <td>normal</td>\n",
              "      <td>notpresent</td>\n",
              "      <td>notpresent</td>\n",
              "      <td>106</td>\n",
              "      <td>26</td>\n",
              "      <td>1.4</td>\n",
              "      <td>?</td>\n",
              "      <td>?</td>\n",
              "      <td>11.6</td>\n",
              "      <td>35</td>\n",
              "      <td>7300</td>\n",
              "      <td>4.6</td>\n",
              "      <td>no</td>\n",
              "      <td>no</td>\n",
              "      <td>no</td>\n",
              "      <td>good</td>\n",
              "      <td>no</td>\n",
              "      <td>no</td>\n",
              "      <td>ckd</td>\n",
              "    </tr>\n",
              "  </tbody>\n",
              "</table>\n",
              "</div>"
            ],
            "text/plain": [
              "    0   1      2  3  4       5         6  ...   18   19  20    21   22   23   24\n",
              "0  48  80   1.02  1  0       ?    normal  ...  yes  yes  no  good   no   no  ckd\n",
              "1   7  50   1.02  4  0       ?    normal  ...   no   no  no  good   no   no  ckd\n",
              "2  62  80   1.01  2  3  normal    normal  ...   no  yes  no  poor   no  yes  ckd\n",
              "3  48  70  1.005  4  0  normal  abnormal  ...  yes   no  no  poor  yes  yes  ckd\n",
              "4  51  80   1.01  2  0  normal    normal  ...   no   no  no  good   no   no  ckd\n",
              "\n",
              "[5 rows x 25 columns]"
            ]
          },
          "metadata": {
            "tags": []
          },
          "execution_count": 2
        }
      ]
    },
    {
      "cell_type": "markdown",
      "metadata": {
        "id": "NAWbuz4bPwyx"
      },
      "source": [
        "# Adding header"
      ]
    },
    {
      "cell_type": "code",
      "metadata": {
        "id": "wQlFwoAjOEcz"
      },
      "source": [
        "headers = ['age','bp','sg','al','su','rbc','pc','pcc','ba','bgr','bu','sc','sod','pot','hemo','pcv','wc','rc','htn','dm','cad','appet','pe','ane','classification']"
      ],
      "execution_count": null,
      "outputs": []
    },
    {
      "cell_type": "code",
      "metadata": {
        "colab": {
          "base_uri": "https://localhost:8080/",
          "height": 203
        },
        "id": "LNhGfffGOLP7",
        "outputId": "9010dbe8-6459-40f0-e77c-d76a7abdb446"
      },
      "source": [
        "df.columns = headers\n",
        "df.head()"
      ],
      "execution_count": null,
      "outputs": [
        {
          "output_type": "execute_result",
          "data": {
            "text/html": [
              "<div>\n",
              "<style scoped>\n",
              "    .dataframe tbody tr th:only-of-type {\n",
              "        vertical-align: middle;\n",
              "    }\n",
              "\n",
              "    .dataframe tbody tr th {\n",
              "        vertical-align: top;\n",
              "    }\n",
              "\n",
              "    .dataframe thead th {\n",
              "        text-align: right;\n",
              "    }\n",
              "</style>\n",
              "<table border=\"1\" class=\"dataframe\">\n",
              "  <thead>\n",
              "    <tr style=\"text-align: right;\">\n",
              "      <th></th>\n",
              "      <th>age</th>\n",
              "      <th>bp</th>\n",
              "      <th>sg</th>\n",
              "      <th>al</th>\n",
              "      <th>su</th>\n",
              "      <th>rbc</th>\n",
              "      <th>pc</th>\n",
              "      <th>pcc</th>\n",
              "      <th>ba</th>\n",
              "      <th>bgr</th>\n",
              "      <th>bu</th>\n",
              "      <th>sc</th>\n",
              "      <th>sod</th>\n",
              "      <th>pot</th>\n",
              "      <th>hemo</th>\n",
              "      <th>pcv</th>\n",
              "      <th>wc</th>\n",
              "      <th>rc</th>\n",
              "      <th>htn</th>\n",
              "      <th>dm</th>\n",
              "      <th>cad</th>\n",
              "      <th>appet</th>\n",
              "      <th>pe</th>\n",
              "      <th>ane</th>\n",
              "      <th>classification</th>\n",
              "    </tr>\n",
              "  </thead>\n",
              "  <tbody>\n",
              "    <tr>\n",
              "      <th>0</th>\n",
              "      <td>48</td>\n",
              "      <td>80</td>\n",
              "      <td>1.02</td>\n",
              "      <td>1</td>\n",
              "      <td>0</td>\n",
              "      <td>?</td>\n",
              "      <td>normal</td>\n",
              "      <td>notpresent</td>\n",
              "      <td>notpresent</td>\n",
              "      <td>121</td>\n",
              "      <td>36</td>\n",
              "      <td>1.2</td>\n",
              "      <td>?</td>\n",
              "      <td>?</td>\n",
              "      <td>15.4</td>\n",
              "      <td>44</td>\n",
              "      <td>7800</td>\n",
              "      <td>5.2</td>\n",
              "      <td>yes</td>\n",
              "      <td>yes</td>\n",
              "      <td>no</td>\n",
              "      <td>good</td>\n",
              "      <td>no</td>\n",
              "      <td>no</td>\n",
              "      <td>ckd</td>\n",
              "    </tr>\n",
              "    <tr>\n",
              "      <th>1</th>\n",
              "      <td>7</td>\n",
              "      <td>50</td>\n",
              "      <td>1.02</td>\n",
              "      <td>4</td>\n",
              "      <td>0</td>\n",
              "      <td>?</td>\n",
              "      <td>normal</td>\n",
              "      <td>notpresent</td>\n",
              "      <td>notpresent</td>\n",
              "      <td>?</td>\n",
              "      <td>18</td>\n",
              "      <td>0.8</td>\n",
              "      <td>?</td>\n",
              "      <td>?</td>\n",
              "      <td>11.3</td>\n",
              "      <td>38</td>\n",
              "      <td>6000</td>\n",
              "      <td>?</td>\n",
              "      <td>no</td>\n",
              "      <td>no</td>\n",
              "      <td>no</td>\n",
              "      <td>good</td>\n",
              "      <td>no</td>\n",
              "      <td>no</td>\n",
              "      <td>ckd</td>\n",
              "    </tr>\n",
              "    <tr>\n",
              "      <th>2</th>\n",
              "      <td>62</td>\n",
              "      <td>80</td>\n",
              "      <td>1.01</td>\n",
              "      <td>2</td>\n",
              "      <td>3</td>\n",
              "      <td>normal</td>\n",
              "      <td>normal</td>\n",
              "      <td>notpresent</td>\n",
              "      <td>notpresent</td>\n",
              "      <td>423</td>\n",
              "      <td>53</td>\n",
              "      <td>1.8</td>\n",
              "      <td>?</td>\n",
              "      <td>?</td>\n",
              "      <td>9.6</td>\n",
              "      <td>31</td>\n",
              "      <td>7500</td>\n",
              "      <td>?</td>\n",
              "      <td>no</td>\n",
              "      <td>yes</td>\n",
              "      <td>no</td>\n",
              "      <td>poor</td>\n",
              "      <td>no</td>\n",
              "      <td>yes</td>\n",
              "      <td>ckd</td>\n",
              "    </tr>\n",
              "    <tr>\n",
              "      <th>3</th>\n",
              "      <td>48</td>\n",
              "      <td>70</td>\n",
              "      <td>1.005</td>\n",
              "      <td>4</td>\n",
              "      <td>0</td>\n",
              "      <td>normal</td>\n",
              "      <td>abnormal</td>\n",
              "      <td>present</td>\n",
              "      <td>notpresent</td>\n",
              "      <td>117</td>\n",
              "      <td>56</td>\n",
              "      <td>3.8</td>\n",
              "      <td>111</td>\n",
              "      <td>2.5</td>\n",
              "      <td>11.2</td>\n",
              "      <td>32</td>\n",
              "      <td>6700</td>\n",
              "      <td>3.9</td>\n",
              "      <td>yes</td>\n",
              "      <td>no</td>\n",
              "      <td>no</td>\n",
              "      <td>poor</td>\n",
              "      <td>yes</td>\n",
              "      <td>yes</td>\n",
              "      <td>ckd</td>\n",
              "    </tr>\n",
              "    <tr>\n",
              "      <th>4</th>\n",
              "      <td>51</td>\n",
              "      <td>80</td>\n",
              "      <td>1.01</td>\n",
              "      <td>2</td>\n",
              "      <td>0</td>\n",
              "      <td>normal</td>\n",
              "      <td>normal</td>\n",
              "      <td>notpresent</td>\n",
              "      <td>notpresent</td>\n",
              "      <td>106</td>\n",
              "      <td>26</td>\n",
              "      <td>1.4</td>\n",
              "      <td>?</td>\n",
              "      <td>?</td>\n",
              "      <td>11.6</td>\n",
              "      <td>35</td>\n",
              "      <td>7300</td>\n",
              "      <td>4.6</td>\n",
              "      <td>no</td>\n",
              "      <td>no</td>\n",
              "      <td>no</td>\n",
              "      <td>good</td>\n",
              "      <td>no</td>\n",
              "      <td>no</td>\n",
              "      <td>ckd</td>\n",
              "    </tr>\n",
              "  </tbody>\n",
              "</table>\n",
              "</div>"
            ],
            "text/plain": [
              "  age  bp     sg al su     rbc  ...   dm cad appet   pe  ane classification\n",
              "0  48  80   1.02  1  0       ?  ...  yes  no  good   no   no            ckd\n",
              "1   7  50   1.02  4  0       ?  ...   no  no  good   no   no            ckd\n",
              "2  62  80   1.01  2  3  normal  ...  yes  no  poor   no  yes            ckd\n",
              "3  48  70  1.005  4  0  normal  ...   no  no  poor  yes  yes            ckd\n",
              "4  51  80   1.01  2  0  normal  ...   no  no  good   no   no            ckd\n",
              "\n",
              "[5 rows x 25 columns]"
            ]
          },
          "metadata": {
            "tags": []
          },
          "execution_count": 4
        }
      ]
    },
    {
      "cell_type": "code",
      "metadata": {
        "colab": {
          "base_uri": "https://localhost:8080/"
        },
        "id": "AmFjnO_1Q6C7",
        "outputId": "b76c991c-7396-4bf5-c662-9ae12d0896db"
      },
      "source": [
        "df.shape"
      ],
      "execution_count": null,
      "outputs": [
        {
          "output_type": "execute_result",
          "data": {
            "text/plain": [
              "(400, 25)"
            ]
          },
          "metadata": {
            "tags": []
          },
          "execution_count": 5
        }
      ]
    },
    {
      "cell_type": "markdown",
      "metadata": {
        "id": "uq3-cz3KQjmT"
      },
      "source": [
        "# How many missing data we have and replace them with NaN's"
      ]
    },
    {
      "cell_type": "code",
      "metadata": {
        "colab": {
          "base_uri": "https://localhost:8080/"
        },
        "id": "oY1kxebQP6-r",
        "outputId": "186b0c7e-685b-4375-d2ac-d81abd341598"
      },
      "source": [
        "count=0\n",
        "for i in range(0,400):\n",
        "    for j in range(0,25):\n",
        "        if (df.iloc[i,j]=='?'):\n",
        "            count =count+1\n",
        "print(count)"
      ],
      "execution_count": null,
      "outputs": [
        {
          "output_type": "stream",
          "text": [
            "1012\n"
          ],
          "name": "stdout"
        }
      ]
    },
    {
      "cell_type": "markdown",
      "metadata": {
        "id": "r_ThAi7URwGq"
      },
      "source": [
        "####So, we have 1012 missing data"
      ]
    },
    {
      "cell_type": "code",
      "metadata": {
        "id": "gvpA07RsR0FK"
      },
      "source": [
        "df = df.replace('?', np.NaN)"
      ],
      "execution_count": null,
      "outputs": []
    },
    {
      "cell_type": "code",
      "metadata": {
        "colab": {
          "base_uri": "https://localhost:8080/"
        },
        "id": "cOMV0cbASgH7",
        "outputId": "98dad659-9030-40d1-f400-1a7270a9aaff"
      },
      "source": [
        "(df == \"?\").values.any()"
      ],
      "execution_count": null,
      "outputs": [
        {
          "output_type": "execute_result",
          "data": {
            "text/plain": [
              "False"
            ]
          },
          "metadata": {
            "tags": []
          },
          "execution_count": 8
        }
      ]
    },
    {
      "cell_type": "code",
      "metadata": {
        "colab": {
          "base_uri": "https://localhost:8080/",
          "height": 203
        },
        "id": "POXfxaWZmE2M",
        "outputId": "b166bb5b-fb36-4a71-d126-475cd164194f"
      },
      "source": [
        "df.head()"
      ],
      "execution_count": null,
      "outputs": [
        {
          "output_type": "execute_result",
          "data": {
            "text/html": [
              "<div>\n",
              "<style scoped>\n",
              "    .dataframe tbody tr th:only-of-type {\n",
              "        vertical-align: middle;\n",
              "    }\n",
              "\n",
              "    .dataframe tbody tr th {\n",
              "        vertical-align: top;\n",
              "    }\n",
              "\n",
              "    .dataframe thead th {\n",
              "        text-align: right;\n",
              "    }\n",
              "</style>\n",
              "<table border=\"1\" class=\"dataframe\">\n",
              "  <thead>\n",
              "    <tr style=\"text-align: right;\">\n",
              "      <th></th>\n",
              "      <th>age</th>\n",
              "      <th>bp</th>\n",
              "      <th>sg</th>\n",
              "      <th>al</th>\n",
              "      <th>su</th>\n",
              "      <th>rbc</th>\n",
              "      <th>pc</th>\n",
              "      <th>pcc</th>\n",
              "      <th>ba</th>\n",
              "      <th>bgr</th>\n",
              "      <th>bu</th>\n",
              "      <th>sc</th>\n",
              "      <th>sod</th>\n",
              "      <th>pot</th>\n",
              "      <th>hemo</th>\n",
              "      <th>pcv</th>\n",
              "      <th>wc</th>\n",
              "      <th>rc</th>\n",
              "      <th>htn</th>\n",
              "      <th>dm</th>\n",
              "      <th>cad</th>\n",
              "      <th>appet</th>\n",
              "      <th>pe</th>\n",
              "      <th>ane</th>\n",
              "      <th>classification</th>\n",
              "    </tr>\n",
              "  </thead>\n",
              "  <tbody>\n",
              "    <tr>\n",
              "      <th>0</th>\n",
              "      <td>48</td>\n",
              "      <td>80</td>\n",
              "      <td>1.02</td>\n",
              "      <td>1</td>\n",
              "      <td>0</td>\n",
              "      <td>NaN</td>\n",
              "      <td>normal</td>\n",
              "      <td>notpresent</td>\n",
              "      <td>notpresent</td>\n",
              "      <td>121</td>\n",
              "      <td>36</td>\n",
              "      <td>1.2</td>\n",
              "      <td>NaN</td>\n",
              "      <td>NaN</td>\n",
              "      <td>15.4</td>\n",
              "      <td>44</td>\n",
              "      <td>7800</td>\n",
              "      <td>5.2</td>\n",
              "      <td>yes</td>\n",
              "      <td>yes</td>\n",
              "      <td>no</td>\n",
              "      <td>good</td>\n",
              "      <td>no</td>\n",
              "      <td>no</td>\n",
              "      <td>ckd</td>\n",
              "    </tr>\n",
              "    <tr>\n",
              "      <th>1</th>\n",
              "      <td>7</td>\n",
              "      <td>50</td>\n",
              "      <td>1.02</td>\n",
              "      <td>4</td>\n",
              "      <td>0</td>\n",
              "      <td>NaN</td>\n",
              "      <td>normal</td>\n",
              "      <td>notpresent</td>\n",
              "      <td>notpresent</td>\n",
              "      <td>NaN</td>\n",
              "      <td>18</td>\n",
              "      <td>0.8</td>\n",
              "      <td>NaN</td>\n",
              "      <td>NaN</td>\n",
              "      <td>11.3</td>\n",
              "      <td>38</td>\n",
              "      <td>6000</td>\n",
              "      <td>NaN</td>\n",
              "      <td>no</td>\n",
              "      <td>no</td>\n",
              "      <td>no</td>\n",
              "      <td>good</td>\n",
              "      <td>no</td>\n",
              "      <td>no</td>\n",
              "      <td>ckd</td>\n",
              "    </tr>\n",
              "    <tr>\n",
              "      <th>2</th>\n",
              "      <td>62</td>\n",
              "      <td>80</td>\n",
              "      <td>1.01</td>\n",
              "      <td>2</td>\n",
              "      <td>3</td>\n",
              "      <td>normal</td>\n",
              "      <td>normal</td>\n",
              "      <td>notpresent</td>\n",
              "      <td>notpresent</td>\n",
              "      <td>423</td>\n",
              "      <td>53</td>\n",
              "      <td>1.8</td>\n",
              "      <td>NaN</td>\n",
              "      <td>NaN</td>\n",
              "      <td>9.6</td>\n",
              "      <td>31</td>\n",
              "      <td>7500</td>\n",
              "      <td>NaN</td>\n",
              "      <td>no</td>\n",
              "      <td>yes</td>\n",
              "      <td>no</td>\n",
              "      <td>poor</td>\n",
              "      <td>no</td>\n",
              "      <td>yes</td>\n",
              "      <td>ckd</td>\n",
              "    </tr>\n",
              "    <tr>\n",
              "      <th>3</th>\n",
              "      <td>48</td>\n",
              "      <td>70</td>\n",
              "      <td>1.005</td>\n",
              "      <td>4</td>\n",
              "      <td>0</td>\n",
              "      <td>normal</td>\n",
              "      <td>abnormal</td>\n",
              "      <td>present</td>\n",
              "      <td>notpresent</td>\n",
              "      <td>117</td>\n",
              "      <td>56</td>\n",
              "      <td>3.8</td>\n",
              "      <td>111</td>\n",
              "      <td>2.5</td>\n",
              "      <td>11.2</td>\n",
              "      <td>32</td>\n",
              "      <td>6700</td>\n",
              "      <td>3.9</td>\n",
              "      <td>yes</td>\n",
              "      <td>no</td>\n",
              "      <td>no</td>\n",
              "      <td>poor</td>\n",
              "      <td>yes</td>\n",
              "      <td>yes</td>\n",
              "      <td>ckd</td>\n",
              "    </tr>\n",
              "    <tr>\n",
              "      <th>4</th>\n",
              "      <td>51</td>\n",
              "      <td>80</td>\n",
              "      <td>1.01</td>\n",
              "      <td>2</td>\n",
              "      <td>0</td>\n",
              "      <td>normal</td>\n",
              "      <td>normal</td>\n",
              "      <td>notpresent</td>\n",
              "      <td>notpresent</td>\n",
              "      <td>106</td>\n",
              "      <td>26</td>\n",
              "      <td>1.4</td>\n",
              "      <td>NaN</td>\n",
              "      <td>NaN</td>\n",
              "      <td>11.6</td>\n",
              "      <td>35</td>\n",
              "      <td>7300</td>\n",
              "      <td>4.6</td>\n",
              "      <td>no</td>\n",
              "      <td>no</td>\n",
              "      <td>no</td>\n",
              "      <td>good</td>\n",
              "      <td>no</td>\n",
              "      <td>no</td>\n",
              "      <td>ckd</td>\n",
              "    </tr>\n",
              "  </tbody>\n",
              "</table>\n",
              "</div>"
            ],
            "text/plain": [
              "  age  bp     sg al su     rbc  ...   dm cad appet   pe  ane classification\n",
              "0  48  80   1.02  1  0     NaN  ...  yes  no  good   no   no            ckd\n",
              "1   7  50   1.02  4  0     NaN  ...   no  no  good   no   no            ckd\n",
              "2  62  80   1.01  2  3  normal  ...  yes  no  poor   no  yes            ckd\n",
              "3  48  70  1.005  4  0  normal  ...   no  no  poor  yes  yes            ckd\n",
              "4  51  80   1.01  2  0  normal  ...   no  no  good   no   no            ckd\n",
              "\n",
              "[5 rows x 25 columns]"
            ]
          },
          "metadata": {
            "tags": []
          },
          "execution_count": 9
        }
      ]
    },
    {
      "cell_type": "markdown",
      "metadata": {
        "id": "npq_PeSUSkCL"
      },
      "source": [
        "So, all missing data is replaced by NaN successfully"
      ]
    },
    {
      "cell_type": "markdown",
      "metadata": {
        "id": "t2irSHlkS98y"
      },
      "source": [
        "# The distribution of our missing data"
      ]
    },
    {
      "cell_type": "code",
      "metadata": {
        "colab": {
          "base_uri": "https://localhost:8080/",
          "height": 296
        },
        "id": "5c1i5kDgS3dL",
        "outputId": "753ef5f5-a23e-4fed-fd8d-0cddf7bd6253"
      },
      "source": [
        "pd.isnull(df).sum().plot()\n",
        "plt.xlabel('Attributes')\n",
        "plt.ylabel('Count of NaN')"
      ],
      "execution_count": null,
      "outputs": [
        {
          "output_type": "execute_result",
          "data": {
            "text/plain": [
              "Text(0, 0.5, 'Count of NaN')"
            ]
          },
          "metadata": {
            "tags": []
          },
          "execution_count": 10
        },
        {
          "output_type": "display_data",
          "data": {
            "image/png": "[encoded data removed]",
            "text/plain": [
              "<Figure size 432x288 with 1 Axes>"
            ]
          },
          "metadata": {
            "tags": [],
            "needs_background": "light"
          }
        }
      ]
    },
    {
      "cell_type": "code",
      "metadata": {
        "colab": {
          "base_uri": "https://localhost:8080/",
          "height": 351
        },
        "id": "fXXyzzDNUmCb",
        "outputId": "7eb229be-11f7-4216-ee25-abcf60d0b113"
      },
      "source": [
        "pd.isnull(df).sum()[1:50].plot(kind='bar')\n",
        "plt.xlabel('Attributes')\n",
        "plt.ylabel('Count of NaN')"
      ],
      "execution_count": null,
      "outputs": [
        {
          "output_type": "execute_result",
          "data": {
            "text/plain": [
              "Text(0, 0.5, 'Count of NaN')"
            ]
          },
          "metadata": {
            "tags": []
          },
          "execution_count": 11
        },
        {
          "output_type": "display_data",
          "data": {
            "image/png": "[encoded data removed]",
            "text/plain": [
              "<Figure size 432x288 with 1 Axes>"
            ]
          },
          "metadata": {
            "tags": [],
            "needs_background": "light"
          }
        }
      ]
    },
    {
      "cell_type": "markdown",
      "metadata": {
        "id": "KSkyNsDBZwVL"
      },
      "source": [
        "# Checking all datatypes"
      ]
    },
    {
      "cell_type": "code",
      "metadata": {
        "colab": {
          "base_uri": "https://localhost:8080/"
        },
        "id": "iNnet45vZ3iK",
        "outputId": "c477287a-7dfa-4da7-9118-9218d33c488e"
      },
      "source": [
        "df.dtypes"
      ],
      "execution_count": null,
      "outputs": [
        {
          "output_type": "execute_result",
          "data": {
            "text/plain": [
              "age               object\n",
              "bp                object\n",
              "sg                object\n",
              "al                object\n",
              "su                object\n",
              "rbc               object\n",
              "pc                object\n",
              "pcc               object\n",
              "ba                object\n",
              "bgr               object\n",
              "bu                object\n",
              "sc                object\n",
              "sod               object\n",
              "pot               object\n",
              "hemo              object\n",
              "pcv               object\n",
              "wc                object\n",
              "rc                object\n",
              "htn               object\n",
              "dm                object\n",
              "cad               object\n",
              "appet             object\n",
              "pe                object\n",
              "ane               object\n",
              "classification    object\n",
              "dtype: object"
            ]
          },
          "metadata": {
            "tags": []
          },
          "execution_count": 12
        }
      ]
    },
    {
      "cell_type": "markdown",
      "metadata": {
        "id": "qOCoW17BZ6ib"
      },
      "source": [
        "There all datatypes are in object form, Lets fix these"
      ]
    },
    {
      "cell_type": "code",
      "metadata": {
        "id": "Em6rldIpaEVk",
        "colab": {
          "base_uri": "https://localhost:8080/"
        },
        "outputId": "dbb46d6b-0cd9-4098-8f55-b3849fca3437"
      },
      "source": [
        "df[['age','bp','sg','al','su','bgr','bu','sc','sod','pot','hemo','pcv','wc','rc',]] = df[['age','bp','sg','al','su','bgr','bu','sc','sod','pot','hemo','pcv','wc','rc',]].astype(\"float64\")\n",
        "df.dtypes"
      ],
      "execution_count": null,
      "outputs": [
        {
          "output_type": "execute_result",
          "data": {
            "text/plain": [
              "age               float64\n",
              "bp                float64\n",
              "sg                float64\n",
              "al                float64\n",
              "su                float64\n",
              "rbc                object\n",
              "pc                 object\n",
              "pcc                object\n",
              "ba                 object\n",
              "bgr               float64\n",
              "bu                float64\n",
              "sc                float64\n",
              "sod               float64\n",
              "pot               float64\n",
              "hemo              float64\n",
              "pcv               float64\n",
              "wc                float64\n",
              "rc                float64\n",
              "htn                object\n",
              "dm                 object\n",
              "cad                object\n",
              "appet              object\n",
              "pe                 object\n",
              "ane                object\n",
              "classification     object\n",
              "dtype: object"
            ]
          },
          "metadata": {
            "tags": []
          },
          "execution_count": 13
        }
      ]
    },
    {
      "cell_type": "markdown",
      "metadata": {
        "id": "S4Gzz0minIaq"
      },
      "source": [
        "# Transforming the non-numeric data in the columns"
      ]
    },
    {
      "cell_type": "code",
      "metadata": {
        "id": "TXTFI8w4nG7d",
        "colab": {
          "base_uri": "https://localhost:8080/",
          "height": 511
        },
        "outputId": "5be79161-e0a5-4580-a700-02e7bd6a2f23"
      },
      "source": [
        "df.head(15)"
      ],
      "execution_count": null,
      "outputs": [
        {
          "output_type": "execute_result",
          "data": {
            "text/html": [
              "<div>\n",
              "<style scoped>\n",
              "    .dataframe tbody tr th:only-of-type {\n",
              "        vertical-align: middle;\n",
              "    }\n",
              "\n",
              "    .dataframe tbody tr th {\n",
              "        vertical-align: top;\n",
              "    }\n",
              "\n",
              "    .dataframe thead th {\n",
              "        text-align: right;\n",
              "    }\n",
              "</style>\n",
              "<table border=\"1\" class=\"dataframe\">\n",
              "  <thead>\n",
              "    <tr style=\"text-align: right;\">\n",
              "      <th></th>\n",
              "      <th>age</th>\n",
              "      <th>bp</th>\n",
              "      <th>sg</th>\n",
              "      <th>al</th>\n",
              "      <th>su</th>\n",
              "      <th>rbc</th>\n",
              "      <th>pc</th>\n",
              "      <th>pcc</th>\n",
              "      <th>ba</th>\n",
              "      <th>bgr</th>\n",
              "      <th>bu</th>\n",
              "      <th>sc</th>\n",
              "      <th>sod</th>\n",
              "      <th>pot</th>\n",
              "      <th>hemo</th>\n",
              "      <th>pcv</th>\n",
              "      <th>wc</th>\n",
              "      <th>rc</th>\n",
              "      <th>htn</th>\n",
              "      <th>dm</th>\n",
              "      <th>cad</th>\n",
              "      <th>appet</th>\n",
              "      <th>pe</th>\n",
              "      <th>ane</th>\n",
              "      <th>classification</th>\n",
              "    </tr>\n",
              "  </thead>\n",
              "  <tbody>\n",
              "    <tr>\n",
              "      <th>0</th>\n",
              "      <td>48.0</td>\n",
              "      <td>80.0</td>\n",
              "      <td>1.020</td>\n",
              "      <td>1.0</td>\n",
              "      <td>0.0</td>\n",
              "      <td>NaN</td>\n",
              "      <td>normal</td>\n",
              "      <td>notpresent</td>\n",
              "      <td>notpresent</td>\n",
              "      <td>121.0</td>\n",
              "      <td>36.0</td>\n",
              "      <td>1.2</td>\n",
              "      <td>NaN</td>\n",
              "      <td>NaN</td>\n",
              "      <td>15.4</td>\n",
              "      <td>44.0</td>\n",
              "      <td>7800.0</td>\n",
              "      <td>5.2</td>\n",
              "      <td>yes</td>\n",
              "      <td>yes</td>\n",
              "      <td>no</td>\n",
              "      <td>good</td>\n",
              "      <td>no</td>\n",
              "      <td>no</td>\n",
              "      <td>ckd</td>\n",
              "    </tr>\n",
              "    <tr>\n",
              "      <th>1</th>\n",
              "      <td>7.0</td>\n",
              "      <td>50.0</td>\n",
              "      <td>1.020</td>\n",
              "      <td>4.0</td>\n",
              "      <td>0.0</td>\n",
              "      <td>NaN</td>\n",
              "      <td>normal</td>\n",
              "      <td>notpresent</td>\n",
              "      <td>notpresent</td>\n",
              "      <td>NaN</td>\n",
              "      <td>18.0</td>\n",
              "      <td>0.8</td>\n",
              "      <td>NaN</td>\n",
              "      <td>NaN</td>\n",
              "      <td>11.3</td>\n",
              "      <td>38.0</td>\n",
              "      <td>6000.0</td>\n",
              "      <td>NaN</td>\n",
              "      <td>no</td>\n",
              "      <td>no</td>\n",
              "      <td>no</td>\n",
              "      <td>good</td>\n",
              "      <td>no</td>\n",
              "      <td>no</td>\n",
              "      <td>ckd</td>\n",
              "    </tr>\n",
              "    <tr>\n",
              "      <th>2</th>\n",
              "      <td>62.0</td>\n",
              "      <td>80.0</td>\n",
              "      <td>1.010</td>\n",
              "      <td>2.0</td>\n",
              "      <td>3.0</td>\n",
              "      <td>normal</td>\n",
              "      <td>normal</td>\n",
              "      <td>notpresent</td>\n",
              "      <td>notpresent</td>\n",
              "      <td>423.0</td>\n",
              "      <td>53.0</td>\n",
              "      <td>1.8</td>\n",
              "      <td>NaN</td>\n",
              "      <td>NaN</td>\n",
              "      <td>9.6</td>\n",
              "      <td>31.0</td>\n",
              "      <td>7500.0</td>\n",
              "      <td>NaN</td>\n",
              "      <td>no</td>\n",
              "      <td>yes</td>\n",
              "      <td>no</td>\n",
              "      <td>poor</td>\n",
              "      <td>no</td>\n",
              "      <td>yes</td>\n",
              "      <td>ckd</td>\n",
              "    </tr>\n",
              "    <tr>\n",
              "      <th>3</th>\n",
              "      <td>48.0</td>\n",
              "      <td>70.0</td>\n",
              "      <td>1.005</td>\n",
              "      <td>4.0</td>\n",
              "      <td>0.0</td>\n",
              "      <td>normal</td>\n",
              "      <td>abnormal</td>\n",
              "      <td>present</td>\n",
              "      <td>notpresent</td>\n",
              "      <td>117.0</td>\n",
              "      <td>56.0</td>\n",
              "      <td>3.8</td>\n",
              "      <td>111.0</td>\n",
              "      <td>2.5</td>\n",
              "      <td>11.2</td>\n",
              "      <td>32.0</td>\n",
              "      <td>6700.0</td>\n",
              "      <td>3.9</td>\n",
              "      <td>yes</td>\n",
              "      <td>no</td>\n",
              "      <td>no</td>\n",
              "      <td>poor</td>\n",
              "      <td>yes</td>\n",
              "      <td>yes</td>\n",
              "      <td>ckd</td>\n",
              "    </tr>\n",
              "    <tr>\n",
              "      <th>4</th>\n",
              "      <td>51.0</td>\n",
              "      <td>80.0</td>\n",
              "      <td>1.010</td>\n",
              "      <td>2.0</td>\n",
              "      <td>0.0</td>\n",
              "      <td>normal</td>\n",
              "      <td>normal</td>\n",
              "      <td>notpresent</td>\n",
              "      <td>notpresent</td>\n",
              "      <td>106.0</td>\n",
              "      <td>26.0</td>\n",
              "      <td>1.4</td>\n",
              "      <td>NaN</td>\n",
              "      <td>NaN</td>\n",
              "      <td>11.6</td>\n",
              "      <td>35.0</td>\n",
              "      <td>7300.0</td>\n",
              "      <td>4.6</td>\n",
              "      <td>no</td>\n",
              "      <td>no</td>\n",
              "      <td>no</td>\n",
              "      <td>good</td>\n",
              "      <td>no</td>\n",
              "      <td>no</td>\n",
              "      <td>ckd</td>\n",
              "    </tr>\n",
              "    <tr>\n",
              "      <th>5</th>\n",
              "      <td>60.0</td>\n",
              "      <td>90.0</td>\n",
              "      <td>1.015</td>\n",
              "      <td>3.0</td>\n",
              "      <td>0.0</td>\n",
              "      <td>NaN</td>\n",
              "      <td>NaN</td>\n",
              "      <td>notpresent</td>\n",
              "      <td>notpresent</td>\n",
              "      <td>74.0</td>\n",
              "      <td>25.0</td>\n",
              "      <td>1.1</td>\n",
              "      <td>142.0</td>\n",
              "      <td>3.2</td>\n",
              "      <td>12.2</td>\n",
              "      <td>39.0</td>\n",
              "      <td>7800.0</td>\n",
              "      <td>4.4</td>\n",
              "      <td>yes</td>\n",
              "      <td>yes</td>\n",
              "      <td>no</td>\n",
              "      <td>good</td>\n",
              "      <td>yes</td>\n",
              "      <td>no</td>\n",
              "      <td>ckd</td>\n",
              "    </tr>\n",
              "    <tr>\n",
              "      <th>6</th>\n",
              "      <td>68.0</td>\n",
              "      <td>70.0</td>\n",
              "      <td>1.010</td>\n",
              "      <td>0.0</td>\n",
              "      <td>0.0</td>\n",
              "      <td>NaN</td>\n",
              "      <td>normal</td>\n",
              "      <td>notpresent</td>\n",
              "      <td>notpresent</td>\n",
              "      <td>100.0</td>\n",
              "      <td>54.0</td>\n",
              "      <td>24.0</td>\n",
              "      <td>104.0</td>\n",
              "      <td>4.0</td>\n",
              "      <td>12.4</td>\n",
              "      <td>36.0</td>\n",
              "      <td>NaN</td>\n",
              "      <td>NaN</td>\n",
              "      <td>no</td>\n",
              "      <td>no</td>\n",
              "      <td>no</td>\n",
              "      <td>good</td>\n",
              "      <td>no</td>\n",
              "      <td>no</td>\n",
              "      <td>ckd</td>\n",
              "    </tr>\n",
              "    <tr>\n",
              "      <th>7</th>\n",
              "      <td>24.0</td>\n",
              "      <td>NaN</td>\n",
              "      <td>1.015</td>\n",
              "      <td>2.0</td>\n",
              "      <td>4.0</td>\n",
              "      <td>normal</td>\n",
              "      <td>abnormal</td>\n",
              "      <td>notpresent</td>\n",
              "      <td>notpresent</td>\n",
              "      <td>410.0</td>\n",
              "      <td>31.0</td>\n",
              "      <td>1.1</td>\n",
              "      <td>NaN</td>\n",
              "      <td>NaN</td>\n",
              "      <td>12.4</td>\n",
              "      <td>44.0</td>\n",
              "      <td>6900.0</td>\n",
              "      <td>5.0</td>\n",
              "      <td>no</td>\n",
              "      <td>yes</td>\n",
              "      <td>no</td>\n",
              "      <td>good</td>\n",
              "      <td>yes</td>\n",
              "      <td>no</td>\n",
              "      <td>ckd</td>\n",
              "    </tr>\n",
              "    <tr>\n",
              "      <th>8</th>\n",
              "      <td>52.0</td>\n",
              "      <td>100.0</td>\n",
              "      <td>1.015</td>\n",
              "      <td>3.0</td>\n",
              "      <td>0.0</td>\n",
              "      <td>normal</td>\n",
              "      <td>abnormal</td>\n",
              "      <td>present</td>\n",
              "      <td>notpresent</td>\n",
              "      <td>138.0</td>\n",
              "      <td>60.0</td>\n",
              "      <td>1.9</td>\n",
              "      <td>NaN</td>\n",
              "      <td>NaN</td>\n",
              "      <td>10.8</td>\n",
              "      <td>33.0</td>\n",
              "      <td>9600.0</td>\n",
              "      <td>4.0</td>\n",
              "      <td>yes</td>\n",
              "      <td>yes</td>\n",
              "      <td>no</td>\n",
              "      <td>good</td>\n",
              "      <td>no</td>\n",
              "      <td>yes</td>\n",
              "      <td>ckd</td>\n",
              "    </tr>\n",
              "    <tr>\n",
              "      <th>9</th>\n",
              "      <td>53.0</td>\n",
              "      <td>90.0</td>\n",
              "      <td>1.020</td>\n",
              "      <td>2.0</td>\n",
              "      <td>0.0</td>\n",
              "      <td>abnormal</td>\n",
              "      <td>abnormal</td>\n",
              "      <td>present</td>\n",
              "      <td>notpresent</td>\n",
              "      <td>70.0</td>\n",
              "      <td>107.0</td>\n",
              "      <td>7.2</td>\n",
              "      <td>114.0</td>\n",
              "      <td>3.7</td>\n",
              "      <td>9.5</td>\n",
              "      <td>29.0</td>\n",
              "      <td>12100.0</td>\n",
              "      <td>3.7</td>\n",
              "      <td>yes</td>\n",
              "      <td>yes</td>\n",
              "      <td>no</td>\n",
              "      <td>poor</td>\n",
              "      <td>no</td>\n",
              "      <td>yes</td>\n",
              "      <td>ckd</td>\n",
              "    </tr>\n",
              "    <tr>\n",
              "      <th>10</th>\n",
              "      <td>50.0</td>\n",
              "      <td>60.0</td>\n",
              "      <td>1.010</td>\n",
              "      <td>2.0</td>\n",
              "      <td>4.0</td>\n",
              "      <td>NaN</td>\n",
              "      <td>abnormal</td>\n",
              "      <td>present</td>\n",
              "      <td>notpresent</td>\n",
              "      <td>490.0</td>\n",
              "      <td>55.0</td>\n",
              "      <td>4.0</td>\n",
              "      <td>NaN</td>\n",
              "      <td>NaN</td>\n",
              "      <td>9.4</td>\n",
              "      <td>28.0</td>\n",
              "      <td>NaN</td>\n",
              "      <td>NaN</td>\n",
              "      <td>yes</td>\n",
              "      <td>yes</td>\n",
              "      <td>no</td>\n",
              "      <td>good</td>\n",
              "      <td>no</td>\n",
              "      <td>yes</td>\n",
              "      <td>ckd</td>\n",
              "    </tr>\n",
              "    <tr>\n",
              "      <th>11</th>\n",
              "      <td>63.0</td>\n",
              "      <td>70.0</td>\n",
              "      <td>1.010</td>\n",
              "      <td>3.0</td>\n",
              "      <td>0.0</td>\n",
              "      <td>abnormal</td>\n",
              "      <td>abnormal</td>\n",
              "      <td>present</td>\n",
              "      <td>notpresent</td>\n",
              "      <td>380.0</td>\n",
              "      <td>60.0</td>\n",
              "      <td>2.7</td>\n",
              "      <td>131.0</td>\n",
              "      <td>4.2</td>\n",
              "      <td>10.8</td>\n",
              "      <td>32.0</td>\n",
              "      <td>4500.0</td>\n",
              "      <td>3.8</td>\n",
              "      <td>yes</td>\n",
              "      <td>yes</td>\n",
              "      <td>no</td>\n",
              "      <td>poor</td>\n",
              "      <td>yes</td>\n",
              "      <td>no</td>\n",
              "      <td>ckd</td>\n",
              "    </tr>\n",
              "    <tr>\n",
              "      <th>12</th>\n",
              "      <td>68.0</td>\n",
              "      <td>70.0</td>\n",
              "      <td>1.015</td>\n",
              "      <td>3.0</td>\n",
              "      <td>1.0</td>\n",
              "      <td>NaN</td>\n",
              "      <td>normal</td>\n",
              "      <td>present</td>\n",
              "      <td>notpresent</td>\n",
              "      <td>208.0</td>\n",
              "      <td>72.0</td>\n",
              "      <td>2.1</td>\n",
              "      <td>138.0</td>\n",
              "      <td>5.8</td>\n",
              "      <td>9.7</td>\n",
              "      <td>28.0</td>\n",
              "      <td>12200.0</td>\n",
              "      <td>3.4</td>\n",
              "      <td>yes</td>\n",
              "      <td>yes</td>\n",
              "      <td>yes</td>\n",
              "      <td>poor</td>\n",
              "      <td>yes</td>\n",
              "      <td>no</td>\n",
              "      <td>ckd</td>\n",
              "    </tr>\n",
              "    <tr>\n",
              "      <th>13</th>\n",
              "      <td>68.0</td>\n",
              "      <td>70.0</td>\n",
              "      <td>NaN</td>\n",
              "      <td>NaN</td>\n",
              "      <td>NaN</td>\n",
              "      <td>NaN</td>\n",
              "      <td>NaN</td>\n",
              "      <td>notpresent</td>\n",
              "      <td>notpresent</td>\n",
              "      <td>98.0</td>\n",
              "      <td>86.0</td>\n",
              "      <td>4.6</td>\n",
              "      <td>135.0</td>\n",
              "      <td>3.4</td>\n",
              "      <td>9.8</td>\n",
              "      <td>NaN</td>\n",
              "      <td>NaN</td>\n",
              "      <td>NaN</td>\n",
              "      <td>yes</td>\n",
              "      <td>yes</td>\n",
              "      <td>yes</td>\n",
              "      <td>poor</td>\n",
              "      <td>yes</td>\n",
              "      <td>no</td>\n",
              "      <td>ckd</td>\n",
              "    </tr>\n",
              "    <tr>\n",
              "      <th>14</th>\n",
              "      <td>68.0</td>\n",
              "      <td>80.0</td>\n",
              "      <td>1.010</td>\n",
              "      <td>3.0</td>\n",
              "      <td>2.0</td>\n",
              "      <td>normal</td>\n",
              "      <td>abnormal</td>\n",
              "      <td>present</td>\n",
              "      <td>present</td>\n",
              "      <td>157.0</td>\n",
              "      <td>90.0</td>\n",
              "      <td>4.1</td>\n",
              "      <td>130.0</td>\n",
              "      <td>6.4</td>\n",
              "      <td>5.6</td>\n",
              "      <td>16.0</td>\n",
              "      <td>11000.0</td>\n",
              "      <td>2.6</td>\n",
              "      <td>yes</td>\n",
              "      <td>yes</td>\n",
              "      <td>yes</td>\n",
              "      <td>poor</td>\n",
              "      <td>yes</td>\n",
              "      <td>no</td>\n",
              "      <td>ckd</td>\n",
              "    </tr>\n",
              "  </tbody>\n",
              "</table>\n",
              "</div>"
            ],
            "text/plain": [
              "     age     bp     sg   al   su  ...  cad appet   pe  ane  classification\n",
              "0   48.0   80.0  1.020  1.0  0.0  ...   no  good   no   no             ckd\n",
              "1    7.0   50.0  1.020  4.0  0.0  ...   no  good   no   no             ckd\n",
              "2   62.0   80.0  1.010  2.0  3.0  ...   no  poor   no  yes             ckd\n",
              "3   48.0   70.0  1.005  4.0  0.0  ...   no  poor  yes  yes             ckd\n",
              "4   51.0   80.0  1.010  2.0  0.0  ...   no  good   no   no             ckd\n",
              "5   60.0   90.0  1.015  3.0  0.0  ...   no  good  yes   no             ckd\n",
              "6   68.0   70.0  1.010  0.0  0.0  ...   no  good   no   no             ckd\n",
              "7   24.0    NaN  1.015  2.0  4.0  ...   no  good  yes   no             ckd\n",
              "8   52.0  100.0  1.015  3.0  0.0  ...   no  good   no  yes             ckd\n",
              "9   53.0   90.0  1.020  2.0  0.0  ...   no  poor   no  yes             ckd\n",
              "10  50.0   60.0  1.010  2.0  4.0  ...   no  good   no  yes             ckd\n",
              "11  63.0   70.0  1.010  3.0  0.0  ...   no  poor  yes   no             ckd\n",
              "12  68.0   70.0  1.015  3.0  1.0  ...  yes  poor  yes   no             ckd\n",
              "13  68.0   70.0    NaN  NaN  NaN  ...  yes  poor  yes   no             ckd\n",
              "14  68.0   80.0  1.010  3.0  2.0  ...  yes  poor  yes   no             ckd\n",
              "\n",
              "[15 rows x 25 columns]"
            ]
          },
          "metadata": {
            "tags": []
          },
          "execution_count": 14
        }
      ]
    },
    {
      "cell_type": "markdown",
      "metadata": {
        "id": "fqpk0ec5h3QQ"
      },
      "source": [
        "# Replacing NaN with maximum frequency value\n",
        "\n"
      ]
    },
    {
      "cell_type": "code",
      "metadata": {
        "id": "85EXTVRKT2yb"
      },
      "source": [
        "for i in df.columns:\n",
        "  if df[i].dtype != object:\n",
        "    df[i].replace(np.nan, df[i].value_counts().idxmax(), inplace = True)\n",
        "    df[i].isnull().values.any()"
      ],
      "execution_count": null,
      "outputs": []
    },
    {
      "cell_type": "code",
      "metadata": {
        "id": "94jwnzJte5Ak",
        "colab": {
          "base_uri": "https://localhost:8080/",
          "height": 511
        },
        "outputId": "e0e3bb51-9e34-4941-acaf-2d4d4cdcef30"
      },
      "source": [
        "df.head(15)"
      ],
      "execution_count": null,
      "outputs": [
        {
          "output_type": "execute_result",
          "data": {
            "text/html": [
              "<div>\n",
              "<style scoped>\n",
              "    .dataframe tbody tr th:only-of-type {\n",
              "        vertical-align: middle;\n",
              "    }\n",
              "\n",
              "    .dataframe tbody tr th {\n",
              "        vertical-align: top;\n",
              "    }\n",
              "\n",
              "    .dataframe thead th {\n",
              "        text-align: right;\n",
              "    }\n",
              "</style>\n",
              "<table border=\"1\" class=\"dataframe\">\n",
              "  <thead>\n",
              "    <tr style=\"text-align: right;\">\n",
              "      <th></th>\n",
              "      <th>age</th>\n",
              "      <th>bp</th>\n",
              "      <th>sg</th>\n",
              "      <th>al</th>\n",
              "      <th>su</th>\n",
              "      <th>rbc</th>\n",
              "      <th>pc</th>\n",
              "      <th>pcc</th>\n",
              "      <th>ba</th>\n",
              "      <th>bgr</th>\n",
              "      <th>bu</th>\n",
              "      <th>sc</th>\n",
              "      <th>sod</th>\n",
              "      <th>pot</th>\n",
              "      <th>hemo</th>\n",
              "      <th>pcv</th>\n",
              "      <th>wc</th>\n",
              "      <th>rc</th>\n",
              "      <th>htn</th>\n",
              "      <th>dm</th>\n",
              "      <th>cad</th>\n",
              "      <th>appet</th>\n",
              "      <th>pe</th>\n",
              "      <th>ane</th>\n",
              "      <th>classification</th>\n",
              "    </tr>\n",
              "  </thead>\n",
              "  <tbody>\n",
              "    <tr>\n",
              "      <th>0</th>\n",
              "      <td>48.0</td>\n",
              "      <td>80.0</td>\n",
              "      <td>1.020</td>\n",
              "      <td>1.0</td>\n",
              "      <td>0.0</td>\n",
              "      <td>NaN</td>\n",
              "      <td>normal</td>\n",
              "      <td>notpresent</td>\n",
              "      <td>notpresent</td>\n",
              "      <td>121.0</td>\n",
              "      <td>36.0</td>\n",
              "      <td>1.2</td>\n",
              "      <td>135.0</td>\n",
              "      <td>5.0</td>\n",
              "      <td>15.4</td>\n",
              "      <td>44.0</td>\n",
              "      <td>7800.0</td>\n",
              "      <td>5.2</td>\n",
              "      <td>yes</td>\n",
              "      <td>yes</td>\n",
              "      <td>no</td>\n",
              "      <td>good</td>\n",
              "      <td>no</td>\n",
              "      <td>no</td>\n",
              "      <td>ckd</td>\n",
              "    </tr>\n",
              "    <tr>\n",
              "      <th>1</th>\n",
              "      <td>7.0</td>\n",
              "      <td>50.0</td>\n",
              "      <td>1.020</td>\n",
              "      <td>4.0</td>\n",
              "      <td>0.0</td>\n",
              "      <td>NaN</td>\n",
              "      <td>normal</td>\n",
              "      <td>notpresent</td>\n",
              "      <td>notpresent</td>\n",
              "      <td>99.0</td>\n",
              "      <td>18.0</td>\n",
              "      <td>0.8</td>\n",
              "      <td>135.0</td>\n",
              "      <td>5.0</td>\n",
              "      <td>11.3</td>\n",
              "      <td>38.0</td>\n",
              "      <td>6000.0</td>\n",
              "      <td>5.2</td>\n",
              "      <td>no</td>\n",
              "      <td>no</td>\n",
              "      <td>no</td>\n",
              "      <td>good</td>\n",
              "      <td>no</td>\n",
              "      <td>no</td>\n",
              "      <td>ckd</td>\n",
              "    </tr>\n",
              "    <tr>\n",
              "      <th>2</th>\n",
              "      <td>62.0</td>\n",
              "      <td>80.0</td>\n",
              "      <td>1.010</td>\n",
              "      <td>2.0</td>\n",
              "      <td>3.0</td>\n",
              "      <td>normal</td>\n",
              "      <td>normal</td>\n",
              "      <td>notpresent</td>\n",
              "      <td>notpresent</td>\n",
              "      <td>423.0</td>\n",
              "      <td>53.0</td>\n",
              "      <td>1.8</td>\n",
              "      <td>135.0</td>\n",
              "      <td>5.0</td>\n",
              "      <td>9.6</td>\n",
              "      <td>31.0</td>\n",
              "      <td>7500.0</td>\n",
              "      <td>5.2</td>\n",
              "      <td>no</td>\n",
              "      <td>yes</td>\n",
              "      <td>no</td>\n",
              "      <td>poor</td>\n",
              "      <td>no</td>\n",
              "      <td>yes</td>\n",
              "      <td>ckd</td>\n",
              "    </tr>\n",
              "    <tr>\n",
              "      <th>3</th>\n",
              "      <td>48.0</td>\n",
              "      <td>70.0</td>\n",
              "      <td>1.005</td>\n",
              "      <td>4.0</td>\n",
              "      <td>0.0</td>\n",
              "      <td>normal</td>\n",
              "      <td>abnormal</td>\n",
              "      <td>present</td>\n",
              "      <td>notpresent</td>\n",
              "      <td>117.0</td>\n",
              "      <td>56.0</td>\n",
              "      <td>3.8</td>\n",
              "      <td>111.0</td>\n",
              "      <td>2.5</td>\n",
              "      <td>11.2</td>\n",
              "      <td>32.0</td>\n",
              "      <td>6700.0</td>\n",
              "      <td>3.9</td>\n",
              "      <td>yes</td>\n",
              "      <td>no</td>\n",
              "      <td>no</td>\n",
              "      <td>poor</td>\n",
              "      <td>yes</td>\n",
              "      <td>yes</td>\n",
              "      <td>ckd</td>\n",
              "    </tr>\n",
              "    <tr>\n",
              "      <th>4</th>\n",
              "      <td>51.0</td>\n",
              "      <td>80.0</td>\n",
              "      <td>1.010</td>\n",
              "      <td>2.0</td>\n",
              "      <td>0.0</td>\n",
              "      <td>normal</td>\n",
              "      <td>normal</td>\n",
              "      <td>notpresent</td>\n",
              "      <td>notpresent</td>\n",
              "      <td>106.0</td>\n",
              "      <td>26.0</td>\n",
              "      <td>1.4</td>\n",
              "      <td>135.0</td>\n",
              "      <td>5.0</td>\n",
              "      <td>11.6</td>\n",
              "      <td>35.0</td>\n",
              "      <td>7300.0</td>\n",
              "      <td>4.6</td>\n",
              "      <td>no</td>\n",
              "      <td>no</td>\n",
              "      <td>no</td>\n",
              "      <td>good</td>\n",
              "      <td>no</td>\n",
              "      <td>no</td>\n",
              "      <td>ckd</td>\n",
              "    </tr>\n",
              "    <tr>\n",
              "      <th>5</th>\n",
              "      <td>60.0</td>\n",
              "      <td>90.0</td>\n",
              "      <td>1.015</td>\n",
              "      <td>3.0</td>\n",
              "      <td>0.0</td>\n",
              "      <td>NaN</td>\n",
              "      <td>NaN</td>\n",
              "      <td>notpresent</td>\n",
              "      <td>notpresent</td>\n",
              "      <td>74.0</td>\n",
              "      <td>25.0</td>\n",
              "      <td>1.1</td>\n",
              "      <td>142.0</td>\n",
              "      <td>3.2</td>\n",
              "      <td>12.2</td>\n",
              "      <td>39.0</td>\n",
              "      <td>7800.0</td>\n",
              "      <td>4.4</td>\n",
              "      <td>yes</td>\n",
              "      <td>yes</td>\n",
              "      <td>no</td>\n",
              "      <td>good</td>\n",
              "      <td>yes</td>\n",
              "      <td>no</td>\n",
              "      <td>ckd</td>\n",
              "    </tr>\n",
              "    <tr>\n",
              "      <th>6</th>\n",
              "      <td>68.0</td>\n",
              "      <td>70.0</td>\n",
              "      <td>1.010</td>\n",
              "      <td>0.0</td>\n",
              "      <td>0.0</td>\n",
              "      <td>NaN</td>\n",
              "      <td>normal</td>\n",
              "      <td>notpresent</td>\n",
              "      <td>notpresent</td>\n",
              "      <td>100.0</td>\n",
              "      <td>54.0</td>\n",
              "      <td>24.0</td>\n",
              "      <td>104.0</td>\n",
              "      <td>4.0</td>\n",
              "      <td>12.4</td>\n",
              "      <td>36.0</td>\n",
              "      <td>9800.0</td>\n",
              "      <td>5.2</td>\n",
              "      <td>no</td>\n",
              "      <td>no</td>\n",
              "      <td>no</td>\n",
              "      <td>good</td>\n",
              "      <td>no</td>\n",
              "      <td>no</td>\n",
              "      <td>ckd</td>\n",
              "    </tr>\n",
              "    <tr>\n",
              "      <th>7</th>\n",
              "      <td>24.0</td>\n",
              "      <td>80.0</td>\n",
              "      <td>1.015</td>\n",
              "      <td>2.0</td>\n",
              "      <td>4.0</td>\n",
              "      <td>normal</td>\n",
              "      <td>abnormal</td>\n",
              "      <td>notpresent</td>\n",
              "      <td>notpresent</td>\n",
              "      <td>410.0</td>\n",
              "      <td>31.0</td>\n",
              "      <td>1.1</td>\n",
              "      <td>135.0</td>\n",
              "      <td>5.0</td>\n",
              "      <td>12.4</td>\n",
              "      <td>44.0</td>\n",
              "      <td>6900.0</td>\n",
              "      <td>5.0</td>\n",
              "      <td>no</td>\n",
              "      <td>yes</td>\n",
              "      <td>no</td>\n",
              "      <td>good</td>\n",
              "      <td>yes</td>\n",
              "      <td>no</td>\n",
              "      <td>ckd</td>\n",
              "    </tr>\n",
              "    <tr>\n",
              "      <th>8</th>\n",
              "      <td>52.0</td>\n",
              "      <td>100.0</td>\n",
              "      <td>1.015</td>\n",
              "      <td>3.0</td>\n",
              "      <td>0.0</td>\n",
              "      <td>normal</td>\n",
              "      <td>abnormal</td>\n",
              "      <td>present</td>\n",
              "      <td>notpresent</td>\n",
              "      <td>138.0</td>\n",
              "      <td>60.0</td>\n",
              "      <td>1.9</td>\n",
              "      <td>135.0</td>\n",
              "      <td>5.0</td>\n",
              "      <td>10.8</td>\n",
              "      <td>33.0</td>\n",
              "      <td>9600.0</td>\n",
              "      <td>4.0</td>\n",
              "      <td>yes</td>\n",
              "      <td>yes</td>\n",
              "      <td>no</td>\n",
              "      <td>good</td>\n",
              "      <td>no</td>\n",
              "      <td>yes</td>\n",
              "      <td>ckd</td>\n",
              "    </tr>\n",
              "    <tr>\n",
              "      <th>9</th>\n",
              "      <td>53.0</td>\n",
              "      <td>90.0</td>\n",
              "      <td>1.020</td>\n",
              "      <td>2.0</td>\n",
              "      <td>0.0</td>\n",
              "      <td>abnormal</td>\n",
              "      <td>abnormal</td>\n",
              "      <td>present</td>\n",
              "      <td>notpresent</td>\n",
              "      <td>70.0</td>\n",
              "      <td>107.0</td>\n",
              "      <td>7.2</td>\n",
              "      <td>114.0</td>\n",
              "      <td>3.7</td>\n",
              "      <td>9.5</td>\n",
              "      <td>29.0</td>\n",
              "      <td>12100.0</td>\n",
              "      <td>3.7</td>\n",
              "      <td>yes</td>\n",
              "      <td>yes</td>\n",
              "      <td>no</td>\n",
              "      <td>poor</td>\n",
              "      <td>no</td>\n",
              "      <td>yes</td>\n",
              "      <td>ckd</td>\n",
              "    </tr>\n",
              "    <tr>\n",
              "      <th>10</th>\n",
              "      <td>50.0</td>\n",
              "      <td>60.0</td>\n",
              "      <td>1.010</td>\n",
              "      <td>2.0</td>\n",
              "      <td>4.0</td>\n",
              "      <td>NaN</td>\n",
              "      <td>abnormal</td>\n",
              "      <td>present</td>\n",
              "      <td>notpresent</td>\n",
              "      <td>490.0</td>\n",
              "      <td>55.0</td>\n",
              "      <td>4.0</td>\n",
              "      <td>135.0</td>\n",
              "      <td>5.0</td>\n",
              "      <td>9.4</td>\n",
              "      <td>28.0</td>\n",
              "      <td>9800.0</td>\n",
              "      <td>5.2</td>\n",
              "      <td>yes</td>\n",
              "      <td>yes</td>\n",
              "      <td>no</td>\n",
              "      <td>good</td>\n",
              "      <td>no</td>\n",
              "      <td>yes</td>\n",
              "      <td>ckd</td>\n",
              "    </tr>\n",
              "    <tr>\n",
              "      <th>11</th>\n",
              "      <td>63.0</td>\n",
              "      <td>70.0</td>\n",
              "      <td>1.010</td>\n",
              "      <td>3.0</td>\n",
              "      <td>0.0</td>\n",
              "      <td>abnormal</td>\n",
              "      <td>abnormal</td>\n",
              "      <td>present</td>\n",
              "      <td>notpresent</td>\n",
              "      <td>380.0</td>\n",
              "      <td>60.0</td>\n",
              "      <td>2.7</td>\n",
              "      <td>131.0</td>\n",
              "      <td>4.2</td>\n",
              "      <td>10.8</td>\n",
              "      <td>32.0</td>\n",
              "      <td>4500.0</td>\n",
              "      <td>3.8</td>\n",
              "      <td>yes</td>\n",
              "      <td>yes</td>\n",
              "      <td>no</td>\n",
              "      <td>poor</td>\n",
              "      <td>yes</td>\n",
              "      <td>no</td>\n",
              "      <td>ckd</td>\n",
              "    </tr>\n",
              "    <tr>\n",
              "      <th>12</th>\n",
              "      <td>68.0</td>\n",
              "      <td>70.0</td>\n",
              "      <td>1.015</td>\n",
              "      <td>3.0</td>\n",
              "      <td>1.0</td>\n",
              "      <td>NaN</td>\n",
              "      <td>normal</td>\n",
              "      <td>present</td>\n",
              "      <td>notpresent</td>\n",
              "      <td>208.0</td>\n",
              "      <td>72.0</td>\n",
              "      <td>2.1</td>\n",
              "      <td>138.0</td>\n",
              "      <td>5.8</td>\n",
              "      <td>9.7</td>\n",
              "      <td>28.0</td>\n",
              "      <td>12200.0</td>\n",
              "      <td>3.4</td>\n",
              "      <td>yes</td>\n",
              "      <td>yes</td>\n",
              "      <td>yes</td>\n",
              "      <td>poor</td>\n",
              "      <td>yes</td>\n",
              "      <td>no</td>\n",
              "      <td>ckd</td>\n",
              "    </tr>\n",
              "    <tr>\n",
              "      <th>13</th>\n",
              "      <td>68.0</td>\n",
              "      <td>70.0</td>\n",
              "      <td>1.020</td>\n",
              "      <td>0.0</td>\n",
              "      <td>0.0</td>\n",
              "      <td>NaN</td>\n",
              "      <td>NaN</td>\n",
              "      <td>notpresent</td>\n",
              "      <td>notpresent</td>\n",
              "      <td>98.0</td>\n",
              "      <td>86.0</td>\n",
              "      <td>4.6</td>\n",
              "      <td>135.0</td>\n",
              "      <td>3.4</td>\n",
              "      <td>9.8</td>\n",
              "      <td>41.0</td>\n",
              "      <td>9800.0</td>\n",
              "      <td>5.2</td>\n",
              "      <td>yes</td>\n",
              "      <td>yes</td>\n",
              "      <td>yes</td>\n",
              "      <td>poor</td>\n",
              "      <td>yes</td>\n",
              "      <td>no</td>\n",
              "      <td>ckd</td>\n",
              "    </tr>\n",
              "    <tr>\n",
              "      <th>14</th>\n",
              "      <td>68.0</td>\n",
              "      <td>80.0</td>\n",
              "      <td>1.010</td>\n",
              "      <td>3.0</td>\n",
              "      <td>2.0</td>\n",
              "      <td>normal</td>\n",
              "      <td>abnormal</td>\n",
              "      <td>present</td>\n",
              "      <td>present</td>\n",
              "      <td>157.0</td>\n",
              "      <td>90.0</td>\n",
              "      <td>4.1</td>\n",
              "      <td>130.0</td>\n",
              "      <td>6.4</td>\n",
              "      <td>5.6</td>\n",
              "      <td>16.0</td>\n",
              "      <td>11000.0</td>\n",
              "      <td>2.6</td>\n",
              "      <td>yes</td>\n",
              "      <td>yes</td>\n",
              "      <td>yes</td>\n",
              "      <td>poor</td>\n",
              "      <td>yes</td>\n",
              "      <td>no</td>\n",
              "      <td>ckd</td>\n",
              "    </tr>\n",
              "  </tbody>\n",
              "</table>\n",
              "</div>"
            ],
            "text/plain": [
              "     age     bp     sg   al   su  ...  cad appet   pe  ane  classification\n",
              "0   48.0   80.0  1.020  1.0  0.0  ...   no  good   no   no             ckd\n",
              "1    7.0   50.0  1.020  4.0  0.0  ...   no  good   no   no             ckd\n",
              "2   62.0   80.0  1.010  2.0  3.0  ...   no  poor   no  yes             ckd\n",
              "3   48.0   70.0  1.005  4.0  0.0  ...   no  poor  yes  yes             ckd\n",
              "4   51.0   80.0  1.010  2.0  0.0  ...   no  good   no   no             ckd\n",
              "5   60.0   90.0  1.015  3.0  0.0  ...   no  good  yes   no             ckd\n",
              "6   68.0   70.0  1.010  0.0  0.0  ...   no  good   no   no             ckd\n",
              "7   24.0   80.0  1.015  2.0  4.0  ...   no  good  yes   no             ckd\n",
              "8   52.0  100.0  1.015  3.0  0.0  ...   no  good   no  yes             ckd\n",
              "9   53.0   90.0  1.020  2.0  0.0  ...   no  poor   no  yes             ckd\n",
              "10  50.0   60.0  1.010  2.0  4.0  ...   no  good   no  yes             ckd\n",
              "11  63.0   70.0  1.010  3.0  0.0  ...   no  poor  yes   no             ckd\n",
              "12  68.0   70.0  1.015  3.0  1.0  ...  yes  poor  yes   no             ckd\n",
              "13  68.0   70.0  1.020  0.0  0.0  ...  yes  poor  yes   no             ckd\n",
              "14  68.0   80.0  1.010  3.0  2.0  ...  yes  poor  yes   no             ckd\n",
              "\n",
              "[15 rows x 25 columns]"
            ]
          },
          "metadata": {
            "tags": []
          },
          "execution_count": 16
        }
      ]
    },
    {
      "cell_type": "code",
      "metadata": {
        "id": "e3DHTaHGibIy",
        "colab": {
          "base_uri": "https://localhost:8080/"
        },
        "outputId": "9098aa95-bedb-466e-a727-9d9e26bd3991"
      },
      "source": [
        "for i in df.columns:\n",
        "  if df[i].dtype == object:\n",
        "    print(df[i].value_counts())\n",
        "    print(df[i].value_counts().idxmax())\n",
        "    print()"
      ],
      "execution_count": null,
      "outputs": [
        {
          "output_type": "stream",
          "text": [
            "normal      201\n",
            "abnormal     47\n",
            "Name: rbc, dtype: int64\n",
            "normal\n",
            "\n",
            "normal      259\n",
            "abnormal     76\n",
            "Name: pc, dtype: int64\n",
            "normal\n",
            "\n",
            "notpresent    354\n",
            "present        42\n",
            "Name: pcc, dtype: int64\n",
            "notpresent\n",
            "\n",
            "notpresent    374\n",
            "present        22\n",
            "Name: ba, dtype: int64\n",
            "notpresent\n",
            "\n",
            "no     251\n",
            "yes    147\n",
            "Name: htn, dtype: int64\n",
            "no\n",
            "\n",
            "no     261\n",
            "yes    137\n",
            "Name: dm, dtype: int64\n",
            "no\n",
            "\n",
            "no     364\n",
            "yes     34\n",
            "Name: cad, dtype: int64\n",
            "no\n",
            "\n",
            "good    317\n",
            "poor     82\n",
            "Name: appet, dtype: int64\n",
            "good\n",
            "\n",
            "no     323\n",
            "yes     76\n",
            "Name: pe, dtype: int64\n",
            "no\n",
            "\n",
            "no     339\n",
            "yes     60\n",
            "Name: ane, dtype: int64\n",
            "no\n",
            "\n",
            "ckd       250\n",
            "notckd    150\n",
            "Name: classification, dtype: int64\n",
            "ckd\n",
            "\n"
          ],
          "name": "stdout"
        }
      ]
    },
    {
      "cell_type": "code",
      "metadata": {
        "id": "7CUsmCZm2jPA"
      },
      "source": [
        "\n",
        "df[\"rbc\"].replace(np.nan, \"normal\", inplace = True)\n",
        "df[\"rbc\"].replace({\"normal\": \"0\", \"abnormal\": \"1\"}, inplace=True)\n",
        "\n",
        "\n",
        "df[\"pc\"].replace(np.nan, \"normal\", inplace = True)\n",
        "df[\"pc\"].replace({\"normal\": \"0\", \"abnormal\": \"1\"}, inplace=True)\n",
        "\n",
        "\n",
        "df[\"pcc\"].replace(np.nan, \"notpresent\", inplace = True)\n",
        "df[\"pcc\"].replace({\"present\": \"0\", \"notpresent\": \"1\"}, inplace=True)\n",
        "\n",
        "\n",
        "df[\"ba\"].replace(np.nan, \"notpresent\", inplace = True)\n",
        "df[\"ba\"].replace({\"present\": \"0\", \"notpresent\": \"1\"}, inplace=True)\n",
        "\n",
        "\n",
        "df[\"htn\"].replace(np.nan, \"no\", inplace = True)\n",
        "df[\"htn\"].replace({\"yes\": \"0\", \"no\": \"1\"}, inplace=True)\n",
        "\n",
        "df[\"dm\"].replace(np.nan, \"no\", inplace = True)\n",
        "df[\"dm\"].replace({\"yes\": \"0\", \"no\": \"1\"}, inplace=True)\n",
        "\n",
        "df[\"cad\"].replace(np.nan, \"no\", inplace = True)\n",
        "df[\"cad\"].replace({\"yes\": \"0\", \"no\": \"1\"}, inplace=True)\n",
        "\n",
        "\n",
        "df[\"appet\"].replace(np.nan, \"good\", inplace = True)\n",
        "df[\"appet\"].replace({\"good\": \"0\", \"poor\": \"1\"}, inplace=True)\n",
        "\n",
        "\n",
        "df[\"pe\"].replace(np.nan, \"no\", inplace = True)\n",
        "df[\"pe\"].replace({\"yes\": \"0\", \"no\": \"1\"}, inplace=True)\n",
        "\n",
        "\n",
        "df[\"ane\"].replace(np.nan, \"no\", inplace = True)\n",
        "df[\"ane\"].replace({\"yes\": \"0\", \"no\": \"1\"}, inplace=True)\n",
        "\n",
        "df[\"classification\"].replace({\"ckd\": \"0\", \"notckd\": \"1\"}, inplace=True)\n"
      ],
      "execution_count": null,
      "outputs": []
    },
    {
      "cell_type": "code",
      "metadata": {
        "id": "bJ2dGWK-1F45",
        "colab": {
          "base_uri": "https://localhost:8080/"
        },
        "outputId": "8ab1b4c9-3d7f-4199-a512-c2d1e78a16c1"
      },
      "source": [
        "for i in df.columns:\n",
        "  if df[i].dtype == object:\n",
        "    print(df[i].value_counts())\n",
        "    print(df[i].value_counts().idxmax())\n",
        "    print()"
      ],
      "execution_count": null,
      "outputs": [
        {
          "output_type": "stream",
          "text": [
            "0    353\n",
            "1     47\n",
            "Name: rbc, dtype: int64\n",
            "0\n",
            "\n",
            "0    324\n",
            "1     76\n",
            "Name: pc, dtype: int64\n",
            "0\n",
            "\n",
            "1    358\n",
            "0     42\n",
            "Name: pcc, dtype: int64\n",
            "1\n",
            "\n",
            "1    378\n",
            "0     22\n",
            "Name: ba, dtype: int64\n",
            "1\n",
            "\n",
            "1    253\n",
            "0    147\n",
            "Name: htn, dtype: int64\n",
            "1\n",
            "\n",
            "1    263\n",
            "0    137\n",
            "Name: dm, dtype: int64\n",
            "1\n",
            "\n",
            "1    366\n",
            "0     34\n",
            "Name: cad, dtype: int64\n",
            "1\n",
            "\n",
            "0    318\n",
            "1     82\n",
            "Name: appet, dtype: int64\n",
            "0\n",
            "\n",
            "1    324\n",
            "0     76\n",
            "Name: pe, dtype: int64\n",
            "1\n",
            "\n",
            "1    340\n",
            "0     60\n",
            "Name: ane, dtype: int64\n",
            "1\n",
            "\n",
            "0    250\n",
            "1    150\n",
            "Name: classification, dtype: int64\n",
            "0\n",
            "\n"
          ],
          "name": "stdout"
        }
      ]
    },
    {
      "cell_type": "code",
      "metadata": {
        "id": "5Lq46ggj3_xq",
        "colab": {
          "base_uri": "https://localhost:8080/",
          "height": 203
        },
        "outputId": "25aa6a78-b340-47ae-e06d-4f72dbd027ad"
      },
      "source": [
        "df.head()"
      ],
      "execution_count": null,
      "outputs": [
        {
          "output_type": "execute_result",
          "data": {
            "text/html": [
              "<div>\n",
              "<style scoped>\n",
              "    .dataframe tbody tr th:only-of-type {\n",
              "        vertical-align: middle;\n",
              "    }\n",
              "\n",
              "    .dataframe tbody tr th {\n",
              "        vertical-align: top;\n",
              "    }\n",
              "\n",
              "    .dataframe thead th {\n",
              "        text-align: right;\n",
              "    }\n",
              "</style>\n",
              "<table border=\"1\" class=\"dataframe\">\n",
              "  <thead>\n",
              "    <tr style=\"text-align: right;\">\n",
              "      <th></th>\n",
              "      <th>age</th>\n",
              "      <th>bp</th>\n",
              "      <th>sg</th>\n",
              "      <th>al</th>\n",
              "      <th>su</th>\n",
              "      <th>rbc</th>\n",
              "      <th>pc</th>\n",
              "      <th>pcc</th>\n",
              "      <th>ba</th>\n",
              "      <th>bgr</th>\n",
              "      <th>bu</th>\n",
              "      <th>sc</th>\n",
              "      <th>sod</th>\n",
              "      <th>pot</th>\n",
              "      <th>hemo</th>\n",
              "      <th>pcv</th>\n",
              "      <th>wc</th>\n",
              "      <th>rc</th>\n",
              "      <th>htn</th>\n",
              "      <th>dm</th>\n",
              "      <th>cad</th>\n",
              "      <th>appet</th>\n",
              "      <th>pe</th>\n",
              "      <th>ane</th>\n",
              "      <th>classification</th>\n",
              "    </tr>\n",
              "  </thead>\n",
              "  <tbody>\n",
              "    <tr>\n",
              "      <th>0</th>\n",
              "      <td>48.0</td>\n",
              "      <td>80.0</td>\n",
              "      <td>1.020</td>\n",
              "      <td>1.0</td>\n",
              "      <td>0.0</td>\n",
              "      <td>0</td>\n",
              "      <td>0</td>\n",
              "      <td>1</td>\n",
              "      <td>1</td>\n",
              "      <td>121.0</td>\n",
              "      <td>36.0</td>\n",
              "      <td>1.2</td>\n",
              "      <td>135.0</td>\n",
              "      <td>5.0</td>\n",
              "      <td>15.4</td>\n",
              "      <td>44.0</td>\n",
              "      <td>7800.0</td>\n",
              "      <td>5.2</td>\n",
              "      <td>0</td>\n",
              "      <td>0</td>\n",
              "      <td>1</td>\n",
              "      <td>0</td>\n",
              "      <td>1</td>\n",
              "      <td>1</td>\n",
              "      <td>0</td>\n",
              "    </tr>\n",
              "    <tr>\n",
              "      <th>1</th>\n",
              "      <td>7.0</td>\n",
              "      <td>50.0</td>\n",
              "      <td>1.020</td>\n",
              "      <td>4.0</td>\n",
              "      <td>0.0</td>\n",
              "      <td>0</td>\n",
              "      <td>0</td>\n",
              "      <td>1</td>\n",
              "      <td>1</td>\n",
              "      <td>99.0</td>\n",
              "      <td>18.0</td>\n",
              "      <td>0.8</td>\n",
              "      <td>135.0</td>\n",
              "      <td>5.0</td>\n",
              "      <td>11.3</td>\n",
              "      <td>38.0</td>\n",
              "      <td>6000.0</td>\n",
              "      <td>5.2</td>\n",
              "      <td>1</td>\n",
              "      <td>1</td>\n",
              "      <td>1</td>\n",
              "      <td>0</td>\n",
              "      <td>1</td>\n",
              "      <td>1</td>\n",
              "      <td>0</td>\n",
              "    </tr>\n",
              "    <tr>\n",
              "      <th>2</th>\n",
              "      <td>62.0</td>\n",
              "      <td>80.0</td>\n",
              "      <td>1.010</td>\n",
              "      <td>2.0</td>\n",
              "      <td>3.0</td>\n",
              "      <td>0</td>\n",
              "      <td>0</td>\n",
              "      <td>1</td>\n",
              "      <td>1</td>\n",
              "      <td>423.0</td>\n",
              "      <td>53.0</td>\n",
              "      <td>1.8</td>\n",
              "      <td>135.0</td>\n",
              "      <td>5.0</td>\n",
              "      <td>9.6</td>\n",
              "      <td>31.0</td>\n",
              "      <td>7500.0</td>\n",
              "      <td>5.2</td>\n",
              "      <td>1</td>\n",
              "      <td>0</td>\n",
              "      <td>1</td>\n",
              "      <td>1</td>\n",
              "      <td>1</td>\n",
              "      <td>0</td>\n",
              "      <td>0</td>\n",
              "    </tr>\n",
              "    <tr>\n",
              "      <th>3</th>\n",
              "      <td>48.0</td>\n",
              "      <td>70.0</td>\n",
              "      <td>1.005</td>\n",
              "      <td>4.0</td>\n",
              "      <td>0.0</td>\n",
              "      <td>0</td>\n",
              "      <td>1</td>\n",
              "      <td>0</td>\n",
              "      <td>1</td>\n",
              "      <td>117.0</td>\n",
              "      <td>56.0</td>\n",
              "      <td>3.8</td>\n",
              "      <td>111.0</td>\n",
              "      <td>2.5</td>\n",
              "      <td>11.2</td>\n",
              "      <td>32.0</td>\n",
              "      <td>6700.0</td>\n",
              "      <td>3.9</td>\n",
              "      <td>0</td>\n",
              "      <td>1</td>\n",
              "      <td>1</td>\n",
              "      <td>1</td>\n",
              "      <td>0</td>\n",
              "      <td>0</td>\n",
              "      <td>0</td>\n",
              "    </tr>\n",
              "    <tr>\n",
              "      <th>4</th>\n",
              "      <td>51.0</td>\n",
              "      <td>80.0</td>\n",
              "      <td>1.010</td>\n",
              "      <td>2.0</td>\n",
              "      <td>0.0</td>\n",
              "      <td>0</td>\n",
              "      <td>0</td>\n",
              "      <td>1</td>\n",
              "      <td>1</td>\n",
              "      <td>106.0</td>\n",
              "      <td>26.0</td>\n",
              "      <td>1.4</td>\n",
              "      <td>135.0</td>\n",
              "      <td>5.0</td>\n",
              "      <td>11.6</td>\n",
              "      <td>35.0</td>\n",
              "      <td>7300.0</td>\n",
              "      <td>4.6</td>\n",
              "      <td>1</td>\n",
              "      <td>1</td>\n",
              "      <td>1</td>\n",
              "      <td>0</td>\n",
              "      <td>1</td>\n",
              "      <td>1</td>\n",
              "      <td>0</td>\n",
              "    </tr>\n",
              "  </tbody>\n",
              "</table>\n",
              "</div>"
            ],
            "text/plain": [
              "    age    bp     sg   al   su rbc pc  ... htn dm  cad  appet  pe  ane  classification\n",
              "0  48.0  80.0  1.020  1.0  0.0   0  0  ...   0  0    1      0   1    1               0\n",
              "1   7.0  50.0  1.020  4.0  0.0   0  0  ...   1  1    1      0   1    1               0\n",
              "2  62.0  80.0  1.010  2.0  3.0   0  0  ...   1  0    1      1   1    0               0\n",
              "3  48.0  70.0  1.005  4.0  0.0   0  1  ...   0  1    1      1   0    0               0\n",
              "4  51.0  80.0  1.010  2.0  0.0   0  0  ...   1  1    1      0   1    1               0\n",
              "\n",
              "[5 rows x 25 columns]"
            ]
          },
          "metadata": {
            "tags": []
          },
          "execution_count": 20
        }
      ]
    },
    {
      "cell_type": "code",
      "metadata": {
        "id": "1oBGShNQUMoE"
      },
      "source": [
        "df[['rbc','pc','pcc','ba','htn','dm','cad','appet','pe','ane','classification']] = df[['rbc','pc','pcc','ba','htn','dm','cad','appet','pe','ane','classification']].astype('int64')"
      ],
      "execution_count": null,
      "outputs": []
    },
    {
      "cell_type": "markdown",
      "metadata": {
        "id": "FpJ7LFPh_Jwq"
      },
      "source": [
        "#  Seperating the data"
      ]
    },
    {
      "cell_type": "code",
      "metadata": {
        "id": "t6fHLSNG5JPa"
      },
      "source": [
        "X = df.drop(['classification'], axis = 1)\n",
        "y = df['classification']\n"
      ],
      "execution_count": null,
      "outputs": []
    },
    {
      "cell_type": "code",
      "metadata": {
        "id": "5TbwjfPUtNo-"
      },
      "source": [
        "#FOR ANN\n",
        "X_train, X_test, y_train, y_test = train_test_split(X, y, test_size=0.2, shuffle = True)\n",
        "scaler = MinMaxScaler()\n",
        "X_train = scaler.fit_transform(X_train)\n",
        "X_test = scaler.transform(X_test)"
      ],
      "execution_count": null,
      "outputs": []
    },
    {
      "cell_type": "markdown",
      "metadata": {
        "id": "lx4gyP7k6mne"
      },
      "source": [
        "# Classification using svc\n"
      ]
    },
    {
      "cell_type": "markdown",
      "metadata": {
        "id": "roH7vyljb4db"
      },
      "source": [
        "Linear SVM"
      ]
    },
    {
      "cell_type": "code",
      "metadata": {
        "id": "k7Yl7Ic05rfJ"
      },
      "source": [
        "from sklearn.svm import SVC\n",
        "clf=SVC(kernel='linear')"
      ],
      "execution_count": null,
      "outputs": []
    },
    {
      "cell_type": "code",
      "metadata": {
        "id": "ECriHtviwXcK"
      },
      "source": [
        "scoring = {'accuracy': make_scorer(accuracy_score), 'precision': make_scorer(precision_score,average='macro'),\n",
        "            'recall': make_scorer(recall_score,average='macro'),'specificity': make_scorer(recall_score,pos_label=0)}\n",
        "\n",
        "cv = ShuffleSplit(n_splits=5)\n",
        "cv_val = cross_validate(clf,X,y,cv=5,scoring=scoring)\n",
        "sl = np.mean(cv_val['test_accuracy'])\n",
        "sl_prec = np.mean(cv_val['test_precision'])\n",
        "sl_sensi =   np.mean(cv_val['test_recall'])\n",
        "sl_specificty = np.mean(cv_val['test_specificity'])\n"
      ],
      "execution_count": null,
      "outputs": []
    },
    {
      "cell_type": "code",
      "metadata": {
        "colab": {
          "base_uri": "https://localhost:8080/"
        },
        "id": "hH4TVi1M2DsD",
        "outputId": "c924f227-d307-4305-8fde-25657ad87f5e"
      },
      "source": [
        "print(sl)\n",
        "print(sl_prec)\n",
        "print(sl_sensi)\n",
        "print(sl_specificty)"
      ],
      "execution_count": null,
      "outputs": [
        {
          "output_type": "stream",
          "text": [
            "0.9624999999999998\n",
            "0.9585241935483871\n",
            "0.9620000000000001\n",
            "0.9640000000000001\n"
          ],
          "name": "stdout"
        }
      ]
    },
    {
      "cell_type": "markdown",
      "metadata": {
        "id": "VcFRSTyDkXp9"
      },
      "source": [
        "Quadratic SVM\n"
      ]
    },
    {
      "cell_type": "code",
      "metadata": {
        "id": "q36vxZUuka9c"
      },
      "source": [
        "clf2=SVC(kernel='poly', degree=2)\n",
        "scoring = {'accuracy': make_scorer(accuracy_score), 'precision': make_scorer(precision_score,average='macro'),\n",
        "            'recall': make_scorer(recall_score,average='macro'),'specificity': make_scorer(recall_score,pos_label=0)}\n",
        "\n",
        "cv = ShuffleSplit(n_splits=5)\n",
        "cv_val = cross_validate(clf2,X,y,cv=5,scoring=scoring)\n",
        "sq = np.mean(cv_val['test_accuracy'])\n",
        "sq_prec = np.mean(cv_val['test_precision'])\n",
        "sq_sensi =   np.mean(cv_val['test_recall'])\n",
        "sq_specificty = np.mean(cv_val['test_specificity'])"
      ],
      "execution_count": null,
      "outputs": []
    },
    {
      "cell_type": "code",
      "metadata": {
        "colab": {
          "base_uri": "https://localhost:8080/"
        },
        "id": "qERlbjpY64SK",
        "outputId": "729b8939-3b39-4c4f-8181-38ce1b8ba363"
      },
      "source": [
        "print(sq)\n",
        "print(sq_prec)\n",
        "print(sq_sensi)\n",
        "print(sq_specificty)"
      ],
      "execution_count": null,
      "outputs": [
        {
          "output_type": "stream",
          "text": [
            "0.6625\n",
            "0.636048297439807\n",
            "0.626\n",
            "0.7719999999999999\n"
          ],
          "name": "stdout"
        }
      ]
    },
    {
      "cell_type": "markdown",
      "metadata": {
        "id": "3-ld9n9pz-Zg"
      },
      "source": [
        "\n",
        "\n",
        "# Using KNN"
      ]
    },
    {
      "cell_type": "markdown",
      "metadata": {
        "id": "4YfETrxfnZH8"
      },
      "source": [
        "KNN"
      ]
    },
    {
      "cell_type": "code",
      "metadata": {
        "id": "6u5Jh0SfzzDg"
      },
      "source": [
        "from sklearn import neighbors\n",
        "\n",
        "knn = neighbors.KNeighborsClassifier(n_neighbors=5, n_jobs=-1)"
      ],
      "execution_count": null,
      "outputs": []
    },
    {
      "cell_type": "code",
      "metadata": {
        "colab": {
          "base_uri": "https://localhost:8080/"
        },
        "id": "R4_HxPBe7M2T",
        "outputId": "e356f1a0-80fa-4802-ad87-dc95f4b857c1"
      },
      "source": [
        "scoring = {'accuracy': make_scorer(accuracy_score), 'precision': make_scorer(precision_score,average='macro'),\n",
        "            'recall': make_scorer(recall_score,average='macro'),'specificity': make_scorer(recall_score,pos_label=0)}\n",
        "\n",
        "cv = ShuffleSplit(n_splits=5)\n",
        "cv_val = cross_validate(knn,X,y,cv=5,scoring=scoring)\n",
        "k5 = np.mean(cv_val['test_accuracy'])\n",
        "k5_prec = np.mean(cv_val['test_precision'])\n",
        "k5_sensi =   np.mean(cv_val['test_recall'])\n",
        "k5_specificty = np.mean(cv_val['test_specificity'])\n",
        "\n",
        "print(k5)\n",
        "print(k5_prec)\n",
        "print(k5_sensi)\n",
        "print(k5_specificty)"
      ],
      "execution_count": null,
      "outputs": [
        {
          "output_type": "stream",
          "text": [
            "0.7124999999999999\n",
            "0.7196341697254608\n",
            "0.7313333333333333\n",
            "0.6559999999999999\n"
          ],
          "name": "stdout"
        }
      ]
    },
    {
      "cell_type": "markdown",
      "metadata": {
        "id": "jxzlZ9u-yiHP"
      },
      "source": [
        "Choosing the value of K by elbow method"
      ]
    },
    {
      "cell_type": "code",
      "metadata": {
        "id": "s_q92IuT45A4"
      },
      "source": [
        "from sklearn.model_selection import cross_val_score\n",
        "accuracy_rate = []\n",
        "for i in range(1,40):\n",
        "  knn_test = neighbors.KNeighborsClassifier(n_neighbors=i)\n",
        "  score = cross_val_score(knn_test, X,y, cv= 5)\n",
        "  accuracy_rate.append(score.mean())"
      ],
      "execution_count": null,
      "outputs": []
    },
    {
      "cell_type": "code",
      "metadata": {
        "id": "-4J8QzcS6E_W",
        "colab": {
          "base_uri": "https://localhost:8080/",
          "height": 421
        },
        "outputId": "488d39fe-98b5-45f2-abf7-09d7db8a3a93"
      },
      "source": [
        "import matplotlib.pyplot as plt\n",
        "plt.figure(figsize=(10,6))\n",
        "plt.plot(range(1,40), accuracy_rate, color='blue', linestyle= 'dashed', marker='o', markerfacecolor='red', markersize=10)\n",
        "plt.title('accuracy rate vs k value')\n",
        "plt.xlabel('k')\n",
        "plt.ylabel('acuracy rate')"
      ],
      "execution_count": null,
      "outputs": [
        {
          "output_type": "execute_result",
          "data": {
            "text/plain": [
              "Text(0, 0.5, 'acuracy rate')"
            ]
          },
          "metadata": {
            "tags": []
          },
          "execution_count": 32
        },
        {
          "output_type": "display_data",
          "data": {
            "image/png": "[encoded data removed]",
            "text/plain": [
              "<Figure size 720x432 with 1 Axes>"
            ]
          },
          "metadata": {
            "tags": [],
            "needs_background": "light"
          }
        }
      ]
    },
    {
      "cell_type": "markdown",
      "metadata": {
        "id": "EXryNY1M7wjZ"
      },
      "source": [
        "As we can see at K= 2 accuracy is highest\n",
        "Lets, run the classification again for k=1 Which is fine knn"
      ]
    },
    {
      "cell_type": "markdown",
      "metadata": {
        "id": "0E-naUlbCboV"
      },
      "source": [
        "Fine knn"
      ]
    },
    {
      "cell_type": "code",
      "metadata": {
        "id": "Fu977E_LDsC9"
      },
      "source": [
        "knn_fine = neighbors.KNeighborsClassifier(n_neighbors=1, n_jobs=-1)"
      ],
      "execution_count": null,
      "outputs": []
    },
    {
      "cell_type": "code",
      "metadata": {
        "colab": {
          "base_uri": "https://localhost:8080/"
        },
        "id": "8_mZ03nRHboF",
        "outputId": "d96cd45e-8af8-4b03-df20-aa8f0bff730b"
      },
      "source": [
        "scoring = {'accuracy': make_scorer(accuracy_score), 'precision': make_scorer(precision_score,average='macro'),\n",
        "            'recall': make_scorer(recall_score,average='macro'),'specificity': make_scorer(recall_score,pos_label=0)}\n",
        "\n",
        "cv = ShuffleSplit(n_splits=5)\n",
        "cv_val = cross_validate(knn_fine,X,y,cv=5,scoring=scoring)\n",
        "f = np.mean(cv_val['test_accuracy'])\n",
        "f_prec = np.mean(cv_val['test_precision'])\n",
        "f_sensi =   np.mean(cv_val['test_recall'])\n",
        "f_specificty = np.mean(cv_val['test_specificity'])\n",
        "\n",
        "print(f)\n",
        "print(f_prec)\n",
        "print(f_sensi)\n",
        "print(f_specificty)"
      ],
      "execution_count": null,
      "outputs": [
        {
          "output_type": "stream",
          "text": [
            "0.7649999999999999\n",
            "0.7558476058638572\n",
            "0.7693333333333332\n",
            "0.752\n"
          ],
          "name": "stdout"
        }
      ]
    },
    {
      "cell_type": "markdown",
      "metadata": {
        "id": "fYltmRVbHrKP"
      },
      "source": [
        "Medium Knn"
      ]
    },
    {
      "cell_type": "code",
      "metadata": {
        "id": "2dRHY445Hs0n"
      },
      "source": [
        "knn_medium = neighbors.KNeighborsClassifier(n_neighbors=10, n_jobs=-1)"
      ],
      "execution_count": null,
      "outputs": []
    },
    {
      "cell_type": "code",
      "metadata": {
        "colab": {
          "base_uri": "https://localhost:8080/"
        },
        "id": "fEU2p0Zc9MJg",
        "outputId": "2ed97c6e-5741-4314-9788-a455de25ab55"
      },
      "source": [
        "scoring = {'accuracy': make_scorer(accuracy_score), 'precision': make_scorer(precision_score,average='macro'),\n",
        "            'recall': make_scorer(recall_score,average='macro'),'specificity': make_scorer(recall_score,pos_label=0)}\n",
        "\n",
        "cv = ShuffleSplit(n_splits=5)\n",
        "cv_val = cross_validate(knn_medium,X,y,cv=5,scoring=scoring)\n",
        "m = np.mean(cv_val['test_accuracy'])\n",
        "m_prec = np.mean(cv_val['test_precision'])\n",
        "m_sensi =   np.mean(cv_val['test_recall'])\n",
        "m_specificty = np.mean(cv_val['test_specificity'])\n",
        "\n",
        "print(m)\n",
        "print(m_prec)\n",
        "print(m_sensi)\n",
        "print(m_specificty)"
      ],
      "execution_count": null,
      "outputs": [
        {
          "output_type": "stream",
          "text": [
            "0.71\n",
            "0.7089079877066158\n",
            "0.7186666666666666\n",
            "0.6839999999999999\n"
          ],
          "name": "stdout"
        }
      ]
    },
    {
      "cell_type": "markdown",
      "metadata": {
        "id": "DKIuDEeE_b3Z"
      },
      "source": [
        "Coarse Knn"
      ]
    },
    {
      "cell_type": "code",
      "metadata": {
        "id": "BOdfiX-N_bWW"
      },
      "source": [
        "knn_coarse = neighbors.KNeighborsClassifier(n_neighbors=100, n_jobs=-1)"
      ],
      "execution_count": null,
      "outputs": []
    },
    {
      "cell_type": "code",
      "metadata": {
        "colab": {
          "base_uri": "https://localhost:8080/"
        },
        "id": "w3L4E-oB9uPD",
        "outputId": "ad71f222-01ea-49e7-cae4-de992825b933"
      },
      "source": [
        "scoring = {'accuracy': make_scorer(accuracy_score), 'precision': make_scorer(precision_score,average='macro'),\n",
        "            'recall': make_scorer(recall_score,average='macro'),'specificity': make_scorer(recall_score,pos_label=0)}\n",
        "\n",
        "cv = ShuffleSplit(n_splits=5)\n",
        "cv_val = cross_validate(knn_coarse,X,y,cv=5,scoring=scoring)\n",
        "c = np.mean(cv_val['test_accuracy'])\n",
        "c_prec = np.mean(cv_val['test_precision'])\n",
        "c_sensi =   np.mean(cv_val['test_recall'])\n",
        "c_specificty = np.mean(cv_val['test_specificity'])\n",
        "\n",
        "print(c)\n",
        "print(c_prec)\n",
        "print(c_sensi)\n",
        "print(c_specificty)"
      ],
      "execution_count": null,
      "outputs": [
        {
          "output_type": "stream",
          "text": [
            "0.6824999999999999\n",
            "0.667092133183219\n",
            "0.67\n",
            "0.72\n"
          ],
          "name": "stdout"
        }
      ]
    },
    {
      "cell_type": "markdown",
      "metadata": {
        "id": "OzwUTsq7F0Tm"
      },
      "source": [
        "Weighted knn"
      ]
    },
    {
      "cell_type": "code",
      "metadata": {
        "id": "99WwbwqSF2x2"
      },
      "source": [
        "knn_weighted = neighbors.KNeighborsClassifier(n_neighbors=5, weights='distance', algorithm='ball_tree', leaf_size=30, p=2, metric='minkowski', metric_params=None, n_jobs=-1)"
      ],
      "execution_count": null,
      "outputs": []
    },
    {
      "cell_type": "code",
      "metadata": {
        "colab": {
          "base_uri": "https://localhost:8080/"
        },
        "id": "Ye2Zc6Oz-NkS",
        "outputId": "eed8b93c-e4d7-4c65-edc6-6810ee8d7822"
      },
      "source": [
        "scoring = {'accuracy': make_scorer(accuracy_score), 'precision': make_scorer(precision_score,average='macro'),\n",
        "            'recall': make_scorer(recall_score,average='macro'),'specificity': make_scorer(recall_score,pos_label=0)}\n",
        "\n",
        "cv = ShuffleSplit(n_splits=5)\n",
        "cv_val = cross_validate(knn_weighted,X,y,cv=5,scoring=scoring)\n",
        "wk = np.mean(cv_val['test_accuracy'])\n",
        "wk_prec = np.mean(cv_val['test_precision'])\n",
        "wk_sensi =   np.mean(cv_val['test_recall'])\n",
        "wk_specificty = np.mean(cv_val['test_specificity'])\n",
        "\n",
        "print(wk)\n",
        "print(wk_prec)\n",
        "print(wk_sensi)\n",
        "print(wk_specificty)"
      ],
      "execution_count": null,
      "outputs": [
        {
          "output_type": "stream",
          "text": [
            "0.7175\n",
            "0.7295025287278921\n",
            "0.7406666666666666\n",
            "0.648\n"
          ],
          "name": "stdout"
        }
      ]
    },
    {
      "cell_type": "markdown",
      "metadata": {
        "id": "4sv58jV07UWJ"
      },
      "source": [
        "# Classification using RF"
      ]
    },
    {
      "cell_type": "code",
      "metadata": {
        "id": "WnDUQ8u87fdq"
      },
      "source": [
        "from sklearn.ensemble import RandomForestClassifier\n",
        "clf_rf=RandomForestClassifier(n_estimators=70,random_state=0,n_jobs=-1)"
      ],
      "execution_count": null,
      "outputs": []
    },
    {
      "cell_type": "code",
      "metadata": {
        "colab": {
          "base_uri": "https://localhost:8080/"
        },
        "id": "jqNLktt2-clD",
        "outputId": "52c70df3-3e61-46f6-e8a4-22170efc9ce2"
      },
      "source": [
        "scoring = {'accuracy': make_scorer(accuracy_score), 'precision': make_scorer(precision_score,average='macro'),\n",
        "            'recall': make_scorer(recall_score,average='macro'),'specificity': make_scorer(recall_score,pos_label=0)}\n",
        "\n",
        "cv = ShuffleSplit(n_splits=5)\n",
        "cv_val = cross_validate(clf_rf,X,y,cv=5,scoring=scoring)\n",
        "rf = np.mean(cv_val['test_accuracy'])\n",
        "rf_prec = np.mean(cv_val['test_precision'])\n",
        "rf_sensi =   np.mean(cv_val['test_recall'])\n",
        "rf_specificty = np.mean(cv_val['test_specificity'])\n",
        "\n",
        "print(rf)\n",
        "print(rf_prec)\n",
        "print(rf_sensi)\n",
        "print(rf_specificty)"
      ],
      "execution_count": null,
      "outputs": [
        {
          "output_type": "stream",
          "text": [
            "1.0\n",
            "1.0\n",
            "1.0\n",
            "1.0\n"
          ],
          "name": "stdout"
        }
      ]
    },
    {
      "cell_type": "markdown",
      "metadata": {
        "id": "tyVpxWA7z4Ca"
      },
      "source": [
        "# Decision Tree\n"
      ]
    },
    {
      "cell_type": "code",
      "metadata": {
        "id": "dRyTX0fZ0PvC"
      },
      "source": [
        "from sklearn.tree import DecisionTreeClassifier\n",
        "DTmodel = DecisionTreeClassifier(random_state=0)"
      ],
      "execution_count": null,
      "outputs": []
    },
    {
      "cell_type": "code",
      "metadata": {
        "colab": {
          "base_uri": "https://localhost:8080/"
        },
        "id": "EjKfViD9-uSl",
        "outputId": "4be626a5-4fb6-45ea-db3a-0a903a694a8e"
      },
      "source": [
        "scoring = {'accuracy': make_scorer(accuracy_score), 'precision': make_scorer(precision_score,average='macro'),\n",
        "            'recall': make_scorer(recall_score,average='macro'),'specificity': make_scorer(recall_score,pos_label=0)}\n",
        "\n",
        "cv = ShuffleSplit(n_splits=5)\n",
        "cv_val = cross_validate(DTmodel,X,y,cv=5,scoring=scoring)\n",
        "dt = np.mean(cv_val['test_accuracy'])\n",
        "dt_prec = np.mean(cv_val['test_precision'])\n",
        "dt_sensi =   np.mean(cv_val['test_recall'])\n",
        "dt_specificty = np.mean(cv_val['test_specificity'])\n",
        "\n",
        "print(dt)\n",
        "print(dt_prec)\n",
        "print(dt_sensi)\n",
        "print(dt_specificty)"
      ],
      "execution_count": null,
      "outputs": [
        {
          "output_type": "stream",
          "text": [
            "0.9649999999999999\n",
            "0.9631380067642699\n",
            "0.9626666666666666\n",
            "0.9719999999999999\n"
          ],
          "name": "stdout"
        }
      ]
    },
    {
      "cell_type": "markdown",
      "metadata": {
        "id": "RyM-X5Vq_FOD"
      },
      "source": [
        "# Valdation curve"
      ]
    },
    {
      "cell_type": "code",
      "metadata": {
        "id": "StRTv3XlyV7d"
      },
      "source": [
        "from sklearn.model_selection import validation_curve\n",
        "\n",
        "parameter_range = np.arange(1,  400,  10)\n",
        "train_score, test_score = validation_curve(RandomForestClassifier(), X, y,\n",
        "                          param_name = \"n_estimators\",\n",
        "                          param_range = parameter_range,\n",
        "                          cv = 5, scoring = \"accuracy\")\n",
        "mean_train_score  =  np.mean(train_score,  axis  =  1)\n",
        "std_train_score  =  np.std(train_score,  axis  =  1)\n",
        "mean_test_score  =  np.mean(test_score,  axis  =  1)\n",
        "std_test_score  =  np.std(test_score,  axis  =  1)"
      ],
      "execution_count": null,
      "outputs": []
    },
    {
      "cell_type": "code",
      "metadata": {
        "id": "A3Q4OuSfyXf1",
        "colab": {
          "base_uri": "https://localhost:8080/",
          "height": 314
        },
        "outputId": "00a102ba-2f16-4a06-ec15-3fe0562e568e"
      },
      "source": [
        "#plotting\n",
        "import matplotlib.pyplot as plt\n",
        "plt.plot(parameter_range, mean_train_score,\n",
        " label = \"Training Score\", color = 'b')\n",
        "plt.plot(parameter_range, mean_test_score,\n",
        " label = \"Cross Validation Score\", color = 'g')\n",
        "\n",
        "plt.title(\"Validation Curve with RF Classifier\")\n",
        "plt.xlabel(\"Number ofn_estimators\")\n",
        "plt.ylabel(\"Accuracy\")\n",
        "plt.tight_layout()\n",
        "plt.legend(loc = 'best')\n",
        "plt.show()\n",
        "plt.savefig('Validation_curve.jpg',dpi=300)"
      ],
      "execution_count": null,
      "outputs": [
        {
          "output_type": "display_data",
          "data": {
            "image/png": "[encoded data removed]",
            "text/plain": [
              "<Figure size 432x288 with 1 Axes>"
            ]
          },
          "metadata": {
            "tags": [],
            "needs_background": "light"
          }
        },
        {
          "output_type": "display_data",
          "data": {
            "text/plain": [
              "<Figure size 432x288 with 0 Axes>"
            ]
          },
          "metadata": {
            "tags": []
          }
        }
      ]
    },
    {
      "cell_type": "markdown",
      "metadata": {
        "id": "tvZoq3NyL9Qp"
      },
      "source": [
        "# ANN"
      ]
    },
    {
      "cell_type": "code",
      "metadata": {
        "id": "8bdwAE8hMAey"
      },
      "source": [
        "model_ann  = Sequential()\n",
        "model_ann.add( Dense(256, input_dim = len(X.columns), kernel_initializer=k.initializers.random_normal(seed=13), activation = 'relu'))\n",
        "model_ann.add( Dense(1, activation = 'hard_sigmoid'))"
      ],
      "execution_count": null,
      "outputs": []
    },
    {
      "cell_type": "code",
      "metadata": {
        "id": "SjYpBfH5OeYT"
      },
      "source": [
        "model_ann.compile(loss='binary_crossentropy', optimizer='adam', metrics=['accuracy'])"
      ],
      "execution_count": null,
      "outputs": []
    },
    {
      "cell_type": "code",
      "metadata": {
        "id": "Ati5ojZuO3zp",
        "colab": {
          "base_uri": "https://localhost:8080/"
        },
        "outputId": "f8c2e01d-03be-43c4-ef66-98318f5f3732"
      },
      "source": [
        "history = model_ann.fit(X_train, y_train, epochs=200, batch_size=X_train.shape[0])"
      ],
      "execution_count": null,
      "outputs": [
        {
          "output_type": "stream",
          "text": [
            "Epoch 1/200\n",
            "1/1 [==============================] - 15s 15s/step - loss: 0.6952 - accuracy: 0.4750\n",
            "Epoch 2/200\n",
            "1/1 [==============================] - 0s 8ms/step - loss: 0.6787 - accuracy: 0.6250\n",
            "Epoch 3/200\n",
            "1/1 [==============================] - 0s 10ms/step - loss: 0.6635 - accuracy: 0.6313\n",
            "Epoch 4/200\n",
            "1/1 [==============================] - 0s 8ms/step - loss: 0.6496 - accuracy: 0.6313\n",
            "Epoch 5/200\n",
            "1/1 [==============================] - 0s 10ms/step - loss: 0.6365 - accuracy: 0.6313\n",
            "Epoch 6/200\n",
            "1/1 [==============================] - 0s 9ms/step - loss: 0.6242 - accuracy: 0.6313\n",
            "Epoch 7/200\n",
            "1/1 [==============================] - 0s 7ms/step - loss: 0.6123 - accuracy: 0.6313\n",
            "Epoch 8/200\n",
            "1/1 [==============================] - 0s 8ms/step - loss: 0.6007 - accuracy: 0.6313\n",
            "Epoch 9/200\n",
            "1/1 [==============================] - 0s 9ms/step - loss: 0.5893 - accuracy: 0.6313\n",
            "Epoch 10/200\n",
            "1/1 [==============================] - 0s 8ms/step - loss: 0.5782 - accuracy: 0.6313\n",
            "Epoch 11/200\n",
            "1/1 [==============================] - 0s 14ms/step - loss: 0.5673 - accuracy: 0.6313\n",
            "Epoch 12/200\n",
            "1/1 [==============================] - 0s 9ms/step - loss: 0.5564 - accuracy: 0.6313\n",
            "Epoch 13/200\n",
            "1/1 [==============================] - 0s 6ms/step - loss: 0.5454 - accuracy: 0.6313\n",
            "Epoch 14/200\n",
            "1/1 [==============================] - 0s 9ms/step - loss: 0.5344 - accuracy: 0.6375\n",
            "Epoch 15/200\n",
            "1/1 [==============================] - 0s 5ms/step - loss: 0.5232 - accuracy: 0.6719\n",
            "Epoch 16/200\n",
            "1/1 [==============================] - 0s 6ms/step - loss: 0.5119 - accuracy: 0.7188\n",
            "Epoch 17/200\n",
            "1/1 [==============================] - 0s 6ms/step - loss: 0.5007 - accuracy: 0.8031\n",
            "Epoch 18/200\n",
            "1/1 [==============================] - 0s 9ms/step - loss: 0.4898 - accuracy: 0.8656\n",
            "Epoch 19/200\n",
            "1/1 [==============================] - 0s 6ms/step - loss: 0.4788 - accuracy: 0.9031\n",
            "Epoch 20/200\n",
            "1/1 [==============================] - 0s 7ms/step - loss: 0.4679 - accuracy: 0.9438\n",
            "Epoch 21/200\n",
            "1/1 [==============================] - 0s 7ms/step - loss: 0.4570 - accuracy: 0.9688\n",
            "Epoch 22/200\n",
            "1/1 [==============================] - 0s 6ms/step - loss: 0.4462 - accuracy: 0.9844\n",
            "Epoch 23/200\n",
            "1/1 [==============================] - 0s 7ms/step - loss: 0.4358 - accuracy: 0.9844\n",
            "Epoch 24/200\n",
            "1/1 [==============================] - 0s 5ms/step - loss: 0.4256 - accuracy: 0.9812\n",
            "Epoch 25/200\n",
            "1/1 [==============================] - 0s 9ms/step - loss: 0.4155 - accuracy: 0.9812\n",
            "Epoch 26/200\n",
            "1/1 [==============================] - 0s 7ms/step - loss: 0.4057 - accuracy: 0.9844\n",
            "Epoch 27/200\n",
            "1/1 [==============================] - 0s 6ms/step - loss: 0.3961 - accuracy: 0.9844\n",
            "Epoch 28/200\n",
            "1/1 [==============================] - 0s 7ms/step - loss: 0.3870 - accuracy: 0.9812\n",
            "Epoch 29/200\n",
            "1/1 [==============================] - 0s 8ms/step - loss: 0.3781 - accuracy: 0.9812\n",
            "Epoch 30/200\n",
            "1/1 [==============================] - 0s 8ms/step - loss: 0.3696 - accuracy: 0.9781\n",
            "Epoch 31/200\n",
            "1/1 [==============================] - 0s 24ms/step - loss: 0.3612 - accuracy: 0.9688\n",
            "Epoch 32/200\n",
            "1/1 [==============================] - 0s 8ms/step - loss: 0.3530 - accuracy: 0.9656\n",
            "Epoch 33/200\n",
            "1/1 [==============================] - 0s 8ms/step - loss: 0.3452 - accuracy: 0.9594\n",
            "Epoch 34/200\n",
            "1/1 [==============================] - 0s 5ms/step - loss: 0.3375 - accuracy: 0.9594\n",
            "Epoch 35/200\n",
            "1/1 [==============================] - 0s 6ms/step - loss: 0.3299 - accuracy: 0.9563\n",
            "Epoch 36/200\n",
            "1/1 [==============================] - 0s 7ms/step - loss: 0.3224 - accuracy: 0.9531\n",
            "Epoch 37/200\n",
            "1/1 [==============================] - 0s 9ms/step - loss: 0.3154 - accuracy: 0.9531\n",
            "Epoch 38/200\n",
            "1/1 [==============================] - 0s 7ms/step - loss: 0.3085 - accuracy: 0.9531\n",
            "Epoch 39/200\n",
            "1/1 [==============================] - 0s 7ms/step - loss: 0.3018 - accuracy: 0.9438\n",
            "Epoch 40/200\n",
            "1/1 [==============================] - 0s 10ms/step - loss: 0.2952 - accuracy: 0.9438\n",
            "Epoch 41/200\n",
            "1/1 [==============================] - 0s 9ms/step - loss: 0.2889 - accuracy: 0.9406\n",
            "Epoch 42/200\n",
            "1/1 [==============================] - 0s 8ms/step - loss: 0.2826 - accuracy: 0.9406\n",
            "Epoch 43/200\n",
            "1/1 [==============================] - 0s 10ms/step - loss: 0.2765 - accuracy: 0.9406\n",
            "Epoch 44/200\n",
            "1/1 [==============================] - 0s 6ms/step - loss: 0.2705 - accuracy: 0.9375\n",
            "Epoch 45/200\n",
            "1/1 [==============================] - 0s 36ms/step - loss: 0.2647 - accuracy: 0.9312\n",
            "Epoch 46/200\n",
            "1/1 [==============================] - 0s 23ms/step - loss: 0.2592 - accuracy: 0.9312\n",
            "Epoch 47/200\n",
            "1/1 [==============================] - 0s 9ms/step - loss: 0.2538 - accuracy: 0.9312\n",
            "Epoch 48/200\n",
            "1/1 [==============================] - 0s 7ms/step - loss: 0.2486 - accuracy: 0.9312\n",
            "Epoch 49/200\n",
            "1/1 [==============================] - 0s 12ms/step - loss: 0.2434 - accuracy: 0.9312\n",
            "Epoch 50/200\n",
            "1/1 [==============================] - 0s 7ms/step - loss: 0.2384 - accuracy: 0.9312\n",
            "Epoch 51/200\n",
            "1/1 [==============================] - 0s 12ms/step - loss: 0.2335 - accuracy: 0.9312\n",
            "Epoch 52/200\n",
            "1/1 [==============================] - 0s 8ms/step - loss: 0.2286 - accuracy: 0.9312\n",
            "Epoch 53/200\n",
            "1/1 [==============================] - 0s 8ms/step - loss: 0.2238 - accuracy: 0.9312\n",
            "Epoch 54/200\n",
            "1/1 [==============================] - 0s 8ms/step - loss: 0.2192 - accuracy: 0.9312\n",
            "Epoch 55/200\n",
            "1/1 [==============================] - 0s 6ms/step - loss: 0.2146 - accuracy: 0.9312\n",
            "Epoch 56/200\n",
            "1/1 [==============================] - 0s 7ms/step - loss: 0.2101 - accuracy: 0.9312\n",
            "Epoch 57/200\n",
            "1/1 [==============================] - 0s 6ms/step - loss: 0.2058 - accuracy: 0.9312\n",
            "Epoch 58/200\n",
            "1/1 [==============================] - 0s 6ms/step - loss: 0.2016 - accuracy: 0.9312\n",
            "Epoch 59/200\n",
            "1/1 [==============================] - 0s 5ms/step - loss: 0.1976 - accuracy: 0.9312\n",
            "Epoch 60/200\n",
            "1/1 [==============================] - 0s 5ms/step - loss: 0.1935 - accuracy: 0.9312\n",
            "Epoch 61/200\n",
            "1/1 [==============================] - 0s 5ms/step - loss: 0.1896 - accuracy: 0.9312\n",
            "Epoch 62/200\n",
            "1/1 [==============================] - 0s 14ms/step - loss: 0.1858 - accuracy: 0.9312\n",
            "Epoch 63/200\n",
            "1/1 [==============================] - 0s 11ms/step - loss: 0.1820 - accuracy: 0.9312\n",
            "Epoch 64/200\n",
            "1/1 [==============================] - 0s 11ms/step - loss: 0.1783 - accuracy: 0.9312\n",
            "Epoch 65/200\n",
            "1/1 [==============================] - 0s 7ms/step - loss: 0.1746 - accuracy: 0.9312\n",
            "Epoch 66/200\n",
            "1/1 [==============================] - 0s 11ms/step - loss: 0.1710 - accuracy: 0.9312\n",
            "Epoch 67/200\n",
            "1/1 [==============================] - 0s 7ms/step - loss: 0.1675 - accuracy: 0.9375\n",
            "Epoch 68/200\n",
            "1/1 [==============================] - 0s 9ms/step - loss: 0.1642 - accuracy: 0.9375\n",
            "Epoch 69/200\n",
            "1/1 [==============================] - 0s 13ms/step - loss: 0.1609 - accuracy: 0.9406\n",
            "Epoch 70/200\n",
            "1/1 [==============================] - 0s 19ms/step - loss: 0.1578 - accuracy: 0.9406\n",
            "Epoch 71/200\n",
            "1/1 [==============================] - 0s 9ms/step - loss: 0.1547 - accuracy: 0.9438\n",
            "Epoch 72/200\n",
            "1/1 [==============================] - 0s 7ms/step - loss: 0.1518 - accuracy: 0.9438\n",
            "Epoch 73/200\n",
            "1/1 [==============================] - 0s 6ms/step - loss: 0.1489 - accuracy: 0.9438\n",
            "Epoch 74/200\n",
            "1/1 [==============================] - 0s 6ms/step - loss: 0.1460 - accuracy: 0.9438\n",
            "Epoch 75/200\n",
            "1/1 [==============================] - 0s 9ms/step - loss: 0.1433 - accuracy: 0.9438\n",
            "Epoch 76/200\n",
            "1/1 [==============================] - 0s 7ms/step - loss: 0.1406 - accuracy: 0.9438\n",
            "Epoch 77/200\n",
            "1/1 [==============================] - 0s 7ms/step - loss: 0.1381 - accuracy: 0.9438\n",
            "Epoch 78/200\n",
            "1/1 [==============================] - 0s 13ms/step - loss: 0.1357 - accuracy: 0.9438\n",
            "Epoch 79/200\n",
            "1/1 [==============================] - 0s 12ms/step - loss: 0.1333 - accuracy: 0.9500\n",
            "Epoch 80/200\n",
            "1/1 [==============================] - 0s 8ms/step - loss: 0.1311 - accuracy: 0.9531\n",
            "Epoch 81/200\n",
            "1/1 [==============================] - 0s 6ms/step - loss: 0.1289 - accuracy: 0.9531\n",
            "Epoch 82/200\n",
            "1/1 [==============================] - 0s 8ms/step - loss: 0.1269 - accuracy: 0.9563\n",
            "Epoch 83/200\n",
            "1/1 [==============================] - 0s 9ms/step - loss: 0.1248 - accuracy: 0.9563\n",
            "Epoch 84/200\n",
            "1/1 [==============================] - 0s 15ms/step - loss: 0.1228 - accuracy: 0.9563\n",
            "Epoch 85/200\n",
            "1/1 [==============================] - 0s 23ms/step - loss: 0.1208 - accuracy: 0.9563\n",
            "Epoch 86/200\n",
            "1/1 [==============================] - 0s 12ms/step - loss: 0.1188 - accuracy: 0.9563\n",
            "Epoch 87/200\n",
            "1/1 [==============================] - 0s 6ms/step - loss: 0.1169 - accuracy: 0.9563\n",
            "Epoch 88/200\n",
            "1/1 [==============================] - 0s 7ms/step - loss: 0.1150 - accuracy: 0.9563\n",
            "Epoch 89/200\n",
            "1/1 [==============================] - 0s 7ms/step - loss: 0.1132 - accuracy: 0.9563\n",
            "Epoch 90/200\n",
            "1/1 [==============================] - 0s 10ms/step - loss: 0.1113 - accuracy: 0.9563\n",
            "Epoch 91/200\n",
            "1/1 [==============================] - 0s 6ms/step - loss: 0.1095 - accuracy: 0.9563\n",
            "Epoch 92/200\n",
            "1/1 [==============================] - 0s 15ms/step - loss: 0.1078 - accuracy: 0.9563\n",
            "Epoch 93/200\n",
            "1/1 [==============================] - 0s 10ms/step - loss: 0.1061 - accuracy: 0.9594\n",
            "Epoch 94/200\n",
            "1/1 [==============================] - 0s 10ms/step - loss: 0.1044 - accuracy: 0.9594\n",
            "Epoch 95/200\n",
            "1/1 [==============================] - 0s 6ms/step - loss: 0.1027 - accuracy: 0.9594\n",
            "Epoch 96/200\n",
            "1/1 [==============================] - 0s 6ms/step - loss: 0.1011 - accuracy: 0.9594\n",
            "Epoch 97/200\n",
            "1/1 [==============================] - 0s 9ms/step - loss: 0.0995 - accuracy: 0.9594\n",
            "Epoch 98/200\n",
            "1/1 [==============================] - 0s 6ms/step - loss: 0.0979 - accuracy: 0.9625\n",
            "Epoch 99/200\n",
            "1/1 [==============================] - 0s 6ms/step - loss: 0.0964 - accuracy: 0.9656\n",
            "Epoch 100/200\n",
            "1/1 [==============================] - 0s 9ms/step - loss: 0.0950 - accuracy: 0.9656\n",
            "Epoch 101/200\n",
            "1/1 [==============================] - 0s 6ms/step - loss: 0.0936 - accuracy: 0.9688\n",
            "Epoch 102/200\n",
            "1/1 [==============================] - 0s 10ms/step - loss: 0.0922 - accuracy: 0.9719\n",
            "Epoch 103/200\n",
            "1/1 [==============================] - 0s 6ms/step - loss: 0.0908 - accuracy: 0.9719\n",
            "Epoch 104/200\n",
            "1/1 [==============================] - 0s 8ms/step - loss: 0.0895 - accuracy: 0.9719\n",
            "Epoch 105/200\n",
            "1/1 [==============================] - 0s 10ms/step - loss: 0.0882 - accuracy: 0.9719\n",
            "Epoch 106/200\n",
            "1/1 [==============================] - 0s 6ms/step - loss: 0.0870 - accuracy: 0.9719\n",
            "Epoch 107/200\n",
            "1/1 [==============================] - 0s 6ms/step - loss: 0.0857 - accuracy: 0.9719\n",
            "Epoch 108/200\n",
            "1/1 [==============================] - 0s 9ms/step - loss: 0.0845 - accuracy: 0.9719\n",
            "Epoch 109/200\n",
            "1/1 [==============================] - 0s 6ms/step - loss: 0.0834 - accuracy: 0.9719\n",
            "Epoch 110/200\n",
            "1/1 [==============================] - 0s 6ms/step - loss: 0.0822 - accuracy: 0.9719\n",
            "Epoch 111/200\n",
            "1/1 [==============================] - 0s 10ms/step - loss: 0.0811 - accuracy: 0.9719\n",
            "Epoch 112/200\n",
            "1/1 [==============================] - 0s 6ms/step - loss: 0.0799 - accuracy: 0.9719\n",
            "Epoch 113/200\n",
            "1/1 [==============================] - 0s 12ms/step - loss: 0.0788 - accuracy: 0.9719\n",
            "Epoch 114/200\n",
            "1/1 [==============================] - 0s 9ms/step - loss: 0.0777 - accuracy: 0.9719\n",
            "Epoch 115/200\n",
            "1/1 [==============================] - 0s 8ms/step - loss: 0.0767 - accuracy: 0.9719\n",
            "Epoch 116/200\n",
            "1/1 [==============================] - 0s 8ms/step - loss: 0.0756 - accuracy: 0.9719\n",
            "Epoch 117/200\n",
            "1/1 [==============================] - 0s 20ms/step - loss: 0.0746 - accuracy: 0.9719\n",
            "Epoch 118/200\n",
            "1/1 [==============================] - 0s 17ms/step - loss: 0.0736 - accuracy: 0.9719\n",
            "Epoch 119/200\n",
            "1/1 [==============================] - 0s 15ms/step - loss: 0.0726 - accuracy: 0.9719\n",
            "Epoch 120/200\n",
            "1/1 [==============================] - 0s 9ms/step - loss: 0.0717 - accuracy: 0.9719\n",
            "Epoch 121/200\n",
            "1/1 [==============================] - 0s 5ms/step - loss: 0.0707 - accuracy: 0.9719\n",
            "Epoch 122/200\n",
            "1/1 [==============================] - 0s 8ms/step - loss: 0.0698 - accuracy: 0.9719\n",
            "Epoch 123/200\n",
            "1/1 [==============================] - 0s 6ms/step - loss: 0.0689 - accuracy: 0.9750\n",
            "Epoch 124/200\n",
            "1/1 [==============================] - 0s 8ms/step - loss: 0.0680 - accuracy: 0.9750\n",
            "Epoch 125/200\n",
            "1/1 [==============================] - 0s 6ms/step - loss: 0.0671 - accuracy: 0.9750\n",
            "Epoch 126/200\n",
            "1/1 [==============================] - 0s 11ms/step - loss: 0.0663 - accuracy: 0.9750\n",
            "Epoch 127/200\n",
            "1/1 [==============================] - 0s 6ms/step - loss: 0.0654 - accuracy: 0.9750\n",
            "Epoch 128/200\n",
            "1/1 [==============================] - 0s 6ms/step - loss: 0.0646 - accuracy: 0.9750\n",
            "Epoch 129/200\n",
            "1/1 [==============================] - 0s 6ms/step - loss: 0.0638 - accuracy: 0.9781\n",
            "Epoch 130/200\n",
            "1/1 [==============================] - 0s 9ms/step - loss: 0.0630 - accuracy: 0.9781\n",
            "Epoch 131/200\n",
            "1/1 [==============================] - 0s 6ms/step - loss: 0.0622 - accuracy: 0.9781\n",
            "Epoch 132/200\n",
            "1/1 [==============================] - 0s 10ms/step - loss: 0.0615 - accuracy: 0.9781\n",
            "Epoch 133/200\n",
            "1/1 [==============================] - 0s 6ms/step - loss: 0.0608 - accuracy: 0.9781\n",
            "Epoch 134/200\n",
            "1/1 [==============================] - 0s 12ms/step - loss: 0.0601 - accuracy: 0.9781\n",
            "Epoch 135/200\n",
            "1/1 [==============================] - 0s 10ms/step - loss: 0.0595 - accuracy: 0.9781\n",
            "Epoch 136/200\n",
            "1/1 [==============================] - 0s 6ms/step - loss: 0.0588 - accuracy: 0.9781\n",
            "Epoch 137/200\n",
            "1/1 [==============================] - 0s 7ms/step - loss: 0.0582 - accuracy: 0.9781\n",
            "Epoch 138/200\n",
            "1/1 [==============================] - 0s 9ms/step - loss: 0.0576 - accuracy: 0.9781\n",
            "Epoch 139/200\n",
            "1/1 [==============================] - 0s 5ms/step - loss: 0.0570 - accuracy: 0.9781\n",
            "Epoch 140/200\n",
            "1/1 [==============================] - 0s 6ms/step - loss: 0.0564 - accuracy: 0.9781\n",
            "Epoch 141/200\n",
            "1/1 [==============================] - 0s 6ms/step - loss: 0.0559 - accuracy: 0.9781\n",
            "Epoch 142/200\n",
            "1/1 [==============================] - 0s 6ms/step - loss: 0.0553 - accuracy: 0.9812\n",
            "Epoch 143/200\n",
            "1/1 [==============================] - 0s 10ms/step - loss: 0.0548 - accuracy: 0.9812\n",
            "Epoch 144/200\n",
            "1/1 [==============================] - 0s 6ms/step - loss: 0.0543 - accuracy: 0.9812\n",
            "Epoch 145/200\n",
            "1/1 [==============================] - 0s 7ms/step - loss: 0.0537 - accuracy: 0.9812\n",
            "Epoch 146/200\n",
            "1/1 [==============================] - 0s 8ms/step - loss: 0.0532 - accuracy: 0.9812\n",
            "Epoch 147/200\n",
            "1/1 [==============================] - 0s 9ms/step - loss: 0.0527 - accuracy: 0.9812\n",
            "Epoch 148/200\n",
            "1/1 [==============================] - 0s 8ms/step - loss: 0.0522 - accuracy: 0.9812\n",
            "Epoch 149/200\n",
            "1/1 [==============================] - 0s 8ms/step - loss: 0.0517 - accuracy: 0.9812\n",
            "Epoch 150/200\n",
            "1/1 [==============================] - 0s 9ms/step - loss: 0.0512 - accuracy: 0.9844\n",
            "Epoch 151/200\n",
            "1/1 [==============================] - 0s 8ms/step - loss: 0.0507 - accuracy: 0.9844\n",
            "Epoch 152/200\n",
            "1/1 [==============================] - 0s 7ms/step - loss: 0.0503 - accuracy: 0.9844\n",
            "Epoch 153/200\n",
            "1/1 [==============================] - 0s 14ms/step - loss: 0.0498 - accuracy: 0.9844\n",
            "Epoch 154/200\n",
            "1/1 [==============================] - 0s 7ms/step - loss: 0.0493 - accuracy: 0.9844\n",
            "Epoch 155/200\n",
            "1/1 [==============================] - 0s 10ms/step - loss: 0.0488 - accuracy: 0.9844\n",
            "Epoch 156/200\n",
            "1/1 [==============================] - 0s 28ms/step - loss: 0.0484 - accuracy: 0.9844\n",
            "Epoch 157/200\n",
            "1/1 [==============================] - 0s 10ms/step - loss: 0.0479 - accuracy: 0.9844\n",
            "Epoch 158/200\n",
            "1/1 [==============================] - 0s 10ms/step - loss: 0.0474 - accuracy: 0.9844\n",
            "Epoch 159/200\n",
            "1/1 [==============================] - 0s 8ms/step - loss: 0.0470 - accuracy: 0.9844\n",
            "Epoch 160/200\n",
            "1/1 [==============================] - 0s 13ms/step - loss: 0.0466 - accuracy: 0.9844\n",
            "Epoch 161/200\n",
            "1/1 [==============================] - 0s 10ms/step - loss: 0.0461 - accuracy: 0.9844\n",
            "Epoch 162/200\n",
            "1/1 [==============================] - 0s 8ms/step - loss: 0.0457 - accuracy: 0.9844\n",
            "Epoch 163/200\n",
            "1/1 [==============================] - 0s 24ms/step - loss: 0.0453 - accuracy: 0.9844\n",
            "Epoch 164/200\n",
            "1/1 [==============================] - 0s 6ms/step - loss: 0.0449 - accuracy: 0.9844\n",
            "Epoch 165/200\n",
            "1/1 [==============================] - 0s 11ms/step - loss: 0.0445 - accuracy: 0.9844\n",
            "Epoch 166/200\n",
            "1/1 [==============================] - 0s 9ms/step - loss: 0.0441 - accuracy: 0.9844\n",
            "Epoch 167/200\n",
            "1/1 [==============================] - 0s 8ms/step - loss: 0.0437 - accuracy: 0.9844\n",
            "Epoch 168/200\n",
            "1/1 [==============================] - 0s 10ms/step - loss: 0.0433 - accuracy: 0.9844\n",
            "Epoch 169/200\n",
            "1/1 [==============================] - 0s 9ms/step - loss: 0.0429 - accuracy: 0.9844\n",
            "Epoch 170/200\n",
            "1/1 [==============================] - 0s 7ms/step - loss: 0.0425 - accuracy: 0.9844\n",
            "Epoch 171/200\n",
            "1/1 [==============================] - 0s 9ms/step - loss: 0.0421 - accuracy: 0.9844\n",
            "Epoch 172/200\n",
            "1/1 [==============================] - 0s 10ms/step - loss: 0.0417 - accuracy: 0.9844\n",
            "Epoch 173/200\n",
            "1/1 [==============================] - 0s 9ms/step - loss: 0.0413 - accuracy: 0.9844\n",
            "Epoch 174/200\n",
            "1/1 [==============================] - 0s 16ms/step - loss: 0.0410 - accuracy: 0.9844\n",
            "Epoch 175/200\n",
            "1/1 [==============================] - 0s 7ms/step - loss: 0.0406 - accuracy: 0.9844\n",
            "Epoch 176/200\n",
            "1/1 [==============================] - 0s 10ms/step - loss: 0.0402 - accuracy: 0.9844\n",
            "Epoch 177/200\n",
            "1/1 [==============================] - 0s 7ms/step - loss: 0.0398 - accuracy: 0.9844\n",
            "Epoch 178/200\n",
            "1/1 [==============================] - 0s 15ms/step - loss: 0.0395 - accuracy: 0.9844\n",
            "Epoch 179/200\n",
            "1/1 [==============================] - 0s 6ms/step - loss: 0.0391 - accuracy: 0.9844\n",
            "Epoch 180/200\n",
            "1/1 [==============================] - 0s 8ms/step - loss: 0.0388 - accuracy: 0.9844\n",
            "Epoch 181/200\n",
            "1/1 [==============================] - 0s 6ms/step - loss: 0.0384 - accuracy: 0.9844\n",
            "Epoch 182/200\n",
            "1/1 [==============================] - 0s 8ms/step - loss: 0.0381 - accuracy: 0.9844\n",
            "Epoch 183/200\n",
            "1/1 [==============================] - 0s 13ms/step - loss: 0.0377 - accuracy: 0.9844\n",
            "Epoch 184/200\n",
            "1/1 [==============================] - 0s 9ms/step - loss: 0.0374 - accuracy: 0.9844\n",
            "Epoch 185/200\n",
            "1/1 [==============================] - 0s 6ms/step - loss: 0.0370 - accuracy: 0.9844\n",
            "Epoch 186/200\n",
            "1/1 [==============================] - 0s 6ms/step - loss: 0.0367 - accuracy: 0.9844\n",
            "Epoch 187/200\n",
            "1/1 [==============================] - 0s 8ms/step - loss: 0.0364 - accuracy: 0.9844\n",
            "Epoch 188/200\n",
            "1/1 [==============================] - 0s 14ms/step - loss: 0.0361 - accuracy: 0.9844\n",
            "Epoch 189/200\n",
            "1/1 [==============================] - 0s 10ms/step - loss: 0.0358 - accuracy: 0.9844\n",
            "Epoch 190/200\n",
            "1/1 [==============================] - 0s 17ms/step - loss: 0.0354 - accuracy: 0.9844\n",
            "Epoch 191/200\n",
            "1/1 [==============================] - 0s 16ms/step - loss: 0.0351 - accuracy: 0.9844\n",
            "Epoch 192/200\n",
            "1/1 [==============================] - 0s 9ms/step - loss: 0.0349 - accuracy: 0.9844\n",
            "Epoch 193/200\n",
            "1/1 [==============================] - 0s 21ms/step - loss: 0.0346 - accuracy: 0.9844\n",
            "Epoch 194/200\n",
            "1/1 [==============================] - 0s 17ms/step - loss: 0.0343 - accuracy: 0.9844\n",
            "Epoch 195/200\n",
            "1/1 [==============================] - 0s 20ms/step - loss: 0.0340 - accuracy: 0.9844\n",
            "Epoch 196/200\n",
            "1/1 [==============================] - 0s 8ms/step - loss: 0.0337 - accuracy: 0.9844\n",
            "Epoch 197/200\n",
            "1/1 [==============================] - 0s 14ms/step - loss: 0.0335 - accuracy: 0.9844\n",
            "Epoch 198/200\n",
            "1/1 [==============================] - 0s 15ms/step - loss: 0.0332 - accuracy: 0.9844\n",
            "Epoch 199/200\n",
            "1/1 [==============================] - 0s 6ms/step - loss: 0.0329 - accuracy: 0.9844\n",
            "Epoch 200/200\n",
            "1/1 [==============================] - 0s 14ms/step - loss: 0.0327 - accuracy: 0.9844\n"
          ],
          "name": "stdout"
        }
      ]
    },
    {
      "cell_type": "code",
      "metadata": {
        "id": "OvggQYvAWD0l",
        "colab": {
          "base_uri": "https://localhost:8080/"
        },
        "outputId": "8aa7cddb-4231-4c99-c402-f02f5d0b57d1"
      },
      "source": [
        "model_ann.save('ckd.model')"
      ],
      "execution_count": null,
      "outputs": [
        {
          "output_type": "stream",
          "text": [
            "INFO:tensorflow:Assets written to: ckd.model/assets\n"
          ],
          "name": "stdout"
        }
      ]
    },
    {
      "cell_type": "code",
      "metadata": {
        "id": "AlWhyBORWoab",
        "colab": {
          "base_uri": "https://localhost:8080/",
          "height": 312
        },
        "outputId": "b8eab134-4b41-45f3-ad78-12d4566cb01a"
      },
      "source": [
        "#visualizing the model loss and accuracy\n",
        "plt.plot(history.history['accuracy'])\n",
        "plt.plot(history.history['loss'])\n",
        "plt.title('model accuracy and loss')\n",
        "plt.ylabel('accuracy and loss')\n",
        "plt.xlabel('epoch')"
      ],
      "execution_count": null,
      "outputs": [
        {
          "output_type": "execute_result",
          "data": {
            "text/plain": [
              "Text(0.5, 0, 'epoch')"
            ]
          },
          "metadata": {
            "tags": []
          },
          "execution_count": 51
        },
        {
          "output_type": "display_data",
          "data": {
            "image/png": "[encoded data removed]",
            "text/plain": [
              "<Figure size 432x288 with 1 Axes>"
            ]
          },
          "metadata": {
            "tags": [],
            "needs_background": "light"
          }
        }
      ]
    },
    {
      "cell_type": "code",
      "metadata": {
        "id": "x4aMJUNzX5KP",
        "colab": {
          "base_uri": "https://localhost:8080/"
        },
        "outputId": "038e5ddb-9e11-441a-dd76-ab803b274bab"
      },
      "source": [
        "pred_ann = model_ann.predict(X_test)\n",
        "pred_ann"
      ],
      "execution_count": null,
      "outputs": [
        {
          "output_type": "execute_result",
          "data": {
            "text/plain": [
              "array([[0.31095237],\n",
              "       [0.        ],\n",
              "       [0.        ],\n",
              "       [1.        ],\n",
              "       [1.        ],\n",
              "       [1.        ],\n",
              "       [0.        ],\n",
              "       [1.        ],\n",
              "       [1.        ],\n",
              "       [0.        ],\n",
              "       [1.        ],\n",
              "       [0.        ],\n",
              "       [0.        ],\n",
              "       [0.        ],\n",
              "       [1.        ],\n",
              "       [0.        ],\n",
              "       [1.        ],\n",
              "       [0.51103663],\n",
              "       [0.        ],\n",
              "       [0.        ],\n",
              "       [0.        ],\n",
              "       [1.        ],\n",
              "       [0.        ],\n",
              "       [1.        ],\n",
              "       [0.        ],\n",
              "       [0.7555455 ],\n",
              "       [0.        ],\n",
              "       [0.        ],\n",
              "       [0.939111  ],\n",
              "       [0.75228715],\n",
              "       [0.00304431],\n",
              "       [0.        ],\n",
              "       [0.80867004],\n",
              "       [1.        ],\n",
              "       [0.34443945],\n",
              "       [0.        ],\n",
              "       [0.        ],\n",
              "       [0.        ],\n",
              "       [0.        ],\n",
              "       [1.        ],\n",
              "       [0.        ],\n",
              "       [1.        ],\n",
              "       [0.        ],\n",
              "       [0.        ],\n",
              "       [0.        ],\n",
              "       [1.        ],\n",
              "       [0.        ],\n",
              "       [0.18333542],\n",
              "       [0.        ],\n",
              "       [0.8055419 ],\n",
              "       [0.        ],\n",
              "       [0.        ],\n",
              "       [0.9830327 ],\n",
              "       [0.9224435 ],\n",
              "       [0.84033823],\n",
              "       [1.        ],\n",
              "       [1.        ],\n",
              "       [0.        ],\n",
              "       [0.        ],\n",
              "       [0.        ],\n",
              "       [1.        ],\n",
              "       [1.        ],\n",
              "       [1.        ],\n",
              "       [0.        ],\n",
              "       [0.        ],\n",
              "       [0.92757523],\n",
              "       [0.        ],\n",
              "       [1.        ],\n",
              "       [0.8432575 ],\n",
              "       [0.        ],\n",
              "       [1.        ],\n",
              "       [0.        ],\n",
              "       [0.        ],\n",
              "       [0.        ],\n",
              "       [0.344648  ],\n",
              "       [0.        ],\n",
              "       [0.        ],\n",
              "       [1.        ],\n",
              "       [0.        ],\n",
              "       [1.        ]], dtype=float32)"
            ]
          },
          "metadata": {
            "tags": []
          },
          "execution_count": 52
        }
      ]
    },
    {
      "cell_type": "code",
      "metadata": {
        "id": "wrdOe0QsYUks",
        "colab": {
          "base_uri": "https://localhost:8080/"
        },
        "outputId": "c8923401-39d2-4535-b2d3-076ed174a873"
      },
      "source": [
        "pred_ann = [1 if y>0.5 else 0 for y in pred_ann]\n",
        "pred_ann"
      ],
      "execution_count": null,
      "outputs": [
        {
          "output_type": "execute_result",
          "data": {
            "text/plain": [
              "[0,\n",
              " 0,\n",
              " 0,\n",
              " 1,\n",
              " 1,\n",
              " 1,\n",
              " 0,\n",
              " 1,\n",
              " 1,\n",
              " 0,\n",
              " 1,\n",
              " 0,\n",
              " 0,\n",
              " 0,\n",
              " 1,\n",
              " 0,\n",
              " 1,\n",
              " 1,\n",
              " 0,\n",
              " 0,\n",
              " 0,\n",
              " 1,\n",
              " 0,\n",
              " 1,\n",
              " 0,\n",
              " 1,\n",
              " 0,\n",
              " 0,\n",
              " 1,\n",
              " 1,\n",
              " 0,\n",
              " 0,\n",
              " 1,\n",
              " 1,\n",
              " 0,\n",
              " 0,\n",
              " 0,\n",
              " 0,\n",
              " 0,\n",
              " 1,\n",
              " 0,\n",
              " 1,\n",
              " 0,\n",
              " 0,\n",
              " 0,\n",
              " 1,\n",
              " 0,\n",
              " 0,\n",
              " 0,\n",
              " 1,\n",
              " 0,\n",
              " 0,\n",
              " 1,\n",
              " 1,\n",
              " 1,\n",
              " 1,\n",
              " 1,\n",
              " 0,\n",
              " 0,\n",
              " 0,\n",
              " 1,\n",
              " 1,\n",
              " 1,\n",
              " 0,\n",
              " 0,\n",
              " 1,\n",
              " 0,\n",
              " 1,\n",
              " 1,\n",
              " 0,\n",
              " 1,\n",
              " 0,\n",
              " 0,\n",
              " 0,\n",
              " 0,\n",
              " 0,\n",
              " 0,\n",
              " 1,\n",
              " 0,\n",
              " 1]"
            ]
          },
          "metadata": {
            "tags": []
          },
          "execution_count": 53
        }
      ]
    },
    {
      "cell_type": "code",
      "metadata": {
        "id": "vYFtzUFVYh7m",
        "colab": {
          "base_uri": "https://localhost:8080/"
        },
        "outputId": "ec3423d2-df62-4c87-d1de-330b9962e5a0"
      },
      "source": [
        "print('original : {0}'.format(\", \".join(str(x) for x in y_test)))\n",
        "print('predicted : {0}'.format(\", \".join(str(x) for x in pred_ann)))"
      ],
      "execution_count": null,
      "outputs": [
        {
          "output_type": "stream",
          "text": [
            "original : 0, 0, 0, 1, 1, 1, 0, 1, 1, 0, 1, 0, 0, 0, 1, 0, 1, 0, 0, 0, 0, 1, 0, 1, 0, 0, 0, 0, 1, 1, 0, 0, 1, 1, 0, 0, 0, 0, 0, 1, 0, 1, 0, 0, 0, 1, 0, 0, 0, 1, 0, 0, 1, 1, 1, 1, 1, 0, 0, 0, 1, 1, 1, 0, 0, 1, 0, 1, 1, 0, 1, 0, 0, 0, 0, 0, 0, 1, 0, 1\n",
            "predicted : 0, 0, 0, 1, 1, 1, 0, 1, 1, 0, 1, 0, 0, 0, 1, 0, 1, 1, 0, 0, 0, 1, 0, 1, 0, 1, 0, 0, 1, 1, 0, 0, 1, 1, 0, 0, 0, 0, 0, 1, 0, 1, 0, 0, 0, 1, 0, 0, 0, 1, 0, 0, 1, 1, 1, 1, 1, 0, 0, 0, 1, 1, 1, 0, 0, 1, 0, 1, 1, 0, 1, 0, 0, 0, 0, 0, 0, 1, 0, 1\n"
          ],
          "name": "stdout"
        }
      ]
    },
    {
      "cell_type": "code",
      "metadata": {
        "colab": {
          "base_uri": "https://localhost:8080/"
        },
        "id": "9vJZwX6lDpa7",
        "outputId": "7e9d8726-5f2c-4927-bfe7-6a5a5fe1c623"
      },
      "source": [
        "ann = accuracy_score(y_test, pred_ann)\n",
        "ann"
      ],
      "execution_count": null,
      "outputs": [
        {
          "output_type": "execute_result",
          "data": {
            "text/plain": [
              "0.975"
            ]
          },
          "metadata": {
            "tags": []
          },
          "execution_count": 55
        }
      ]
    },
    {
      "cell_type": "code",
      "metadata": {
        "colab": {
          "base_uri": "https://localhost:8080/"
        },
        "id": "_o7HhEXT_dhM",
        "outputId": "aeab9940-74b6-4a11-94ea-1caf577558e2"
      },
      "source": [
        "mat = metrics.confusion_matrix(y_test, pred_ann)\n",
        "print(mat)"
      ],
      "execution_count": null,
      "outputs": [
        {
          "output_type": "stream",
          "text": [
            "[[46  2]\n",
            " [ 0 32]]\n"
          ],
          "name": "stdout"
        }
      ]
    },
    {
      "cell_type": "code",
      "metadata": {
        "colab": {
          "base_uri": "https://localhost:8080/"
        },
        "id": "Ep9Yxor3GUej",
        "outputId": "e3be4b0e-4ad9-44fe-e574-b14661464d28"
      },
      "source": [
        "ann_specificity = mat[0][0]/ (mat[0][0] + mat[0][1])\n",
        "print(ann_specificity)\n",
        "ann_sensi = mat[1][1]/ (mat[1][1] + mat[1][0])\n",
        "print(ann_sensi)\n",
        "ann_prec = mat[1][1]/ (mat[1][1] + mat[0][1])\n",
        "print(ann_prec)"
      ],
      "execution_count": null,
      "outputs": [
        {
          "output_type": "stream",
          "text": [
            "0.9583333333333334\n",
            "1.0\n",
            "0.9411764705882353\n"
          ],
          "name": "stdout"
        }
      ]
    },
    {
      "cell_type": "markdown",
      "metadata": {
        "id": "ynX0IbyH9QXD"
      },
      "source": [
        "# Accuracy comparision"
      ]
    },
    {
      "cell_type": "code",
      "metadata": {
        "colab": {
          "base_uri": "https://localhost:8080/",
          "height": 347
        },
        "id": "_1VMXj1h9Ugf",
        "outputId": "251e7e74-0581-4cc4-c488-02d418a89700"
      },
      "source": [
        "acc = {\"name\":[\"Linear svm\", \"Quadratic svm\", \"knn5\", \"Fine knn\", \"Medium knn\", \"Coarse knn\", \"Weighted knn\", \"Random Forest\", \"Decision Tree\",\"ANN\"]\n",
        "       ,\"accuracy\":[sl,sq,k5,f,m,c,wk,rf,dt,ann]}\n",
        "ac_gp = pd.DataFrame(acc, columns = [\"accuracy\"], index = acc[\"name\"])\n",
        "ac_gp.plot(kind = \"bar\")\n",
        "plt.ylim([ 0.5, 1.02])\n",
        "plt.gca().legend(loc='center left', bbox_to_anchor=(1, 0.5))"
      ],
      "execution_count": null,
      "outputs": [
        {
          "output_type": "execute_result",
          "data": {
            "text/plain": [
              "<matplotlib.legend.Legend at 0x7f5386b954d0>"
            ]
          },
          "metadata": {
            "tags": []
          },
          "execution_count": 58
        },
        {
          "output_type": "display_data",
          "data": {
            "image/png": "[encoded data removed]",
            "text/plain": [
              "<Figure size 432x288 with 1 Axes>"
            ]
          },
          "metadata": {
            "tags": [],
            "needs_background": "light"
          }
        }
      ]
    },
    {
      "cell_type": "markdown",
      "metadata": {
        "id": "_JvMXJDBDt8E"
      },
      "source": [
        "# Specificity, Precision, Sensitivity Comparison"
      ]
    },
    {
      "cell_type": "code",
      "metadata": {
        "colab": {
          "base_uri": "https://localhost:8080/",
          "height": 347
        },
        "id": "CM5e17TQBHHr",
        "outputId": "90e95ec5-f7a9-4172-b362-1872209a1852"
      },
      "source": [
        "sps = {\"name\":[\"Linear svm\", \"Quadratic svm\", \"knn5\", \"Fine knn\", \"Medium knn\", \"Coarse knn\", \"Weighted knn\", \"Random Forest\", \"Decision Tree\",\"ANN\"]\n",
        "       ,\"Specificity\":[sl_specificty,sq_specificty,k5_specificty,f_specificty,m_specificty,c_specificty,wk_specificty,rf_specificty,dt_specificty,ann_specificity]\n",
        "       ,\"precision\":[sl_prec,sq_prec,k5_prec,f_prec,m_prec,c_prec,wk_prec,rf_prec,dt_prec,ann_prec]\n",
        "       ,\"Sensitivity\":[sl_sensi,sq_sensi,k5_sensi,f_sensi,m_sensi,c_sensi,wk_sensi,rf_sensi,dt_sensi,ann_sensi]\n",
        "       }\n",
        "sps_df = pd.DataFrame(sps, columns = [\"Specificity\",\"precision\",\"Sensitivity\"], index = sps[\"name\"])\n",
        "sps_df.plot(kind = \"bar\")\n",
        "plt.ylim([ 0.5, 1.02])\n",
        "plt.gca().legend(loc='center left', bbox_to_anchor=(1, 0.5))"
      ],
      "execution_count": null,
      "outputs": [
        {
          "output_type": "execute_result",
          "data": {
            "text/plain": [
              "<matplotlib.legend.Legend at 0x7f538680e250>"
            ]
          },
          "metadata": {
            "tags": []
          },
          "execution_count": 59
        },
        {
          "output_type": "display_data",
          "data": {
            "image/png": "[encoded data removed]",
            "text/plain": [
              "<Figure size 432x288 with 1 Axes>"
            ]
          },
          "metadata": {
            "tags": [],
            "needs_background": "light"
          }
        }
      ]
    },
    {
      "cell_type": "markdown",
      "metadata": {
        "id": "BtnLN0zL5XJ9"
      },
      "source": [
        "# Lets Train the data set excludind the attributes which have missing value over 100 with Basic 3 classifier"
      ]
    },
    {
      "cell_type": "code",
      "metadata": {
        "id": "Qg4OpwlR5VgO"
      },
      "source": [
        "L=df[['age','bp','sg','al','su','pc','pcc','ba','bgr','bu','sc','sod','pot','hemo','pcv','htn','dm','cad','appet','pe','ane','classification']].values\n",
        "m=df['classification'].values"
      ],
      "execution_count": null,
      "outputs": []
    },
    {
      "cell_type": "markdown",
      "metadata": {
        "id": "ne9u0pFI7uUo"
      },
      "source": [
        "Excluding rbc, rc and wc"
      ]
    },
    {
      "cell_type": "markdown",
      "metadata": {
        "id": "OhyEo_8F8YjM"
      },
      "source": [
        "Using SVC"
      ]
    },
    {
      "cell_type": "code",
      "metadata": {
        "id": "iCN5zM1o51wi"
      },
      "source": [
        "clf_w=SVC(kernel='linear')"
      ],
      "execution_count": null,
      "outputs": []
    },
    {
      "cell_type": "code",
      "metadata": {
        "colab": {
          "base_uri": "https://localhost:8080/"
        },
        "id": "Tb16SO9L6Giy",
        "outputId": "ba77f96c-c935-4289-985f-720dc95e6ca5"
      },
      "source": [
        "scoring = {'accuracy': make_scorer(accuracy_score), 'precision': make_scorer(precision_score,average='macro'),\n",
        "            'recall': make_scorer(recall_score,average='macro'),'specificity': make_scorer(recall_score,pos_label=0)}\n",
        "\n",
        "cv = ShuffleSplit(n_splits=5)\n",
        "cv_val = cross_validate(clf_w,L,m,cv=5,scoring=scoring)\n",
        "SVC_without_3_columns = np.mean(cv_val['test_accuracy'])\n",
        "SVC_without_3_columns_prec = np.mean(cv_val['test_precision'])\n",
        "SVC_without_3_columns_sensi =   np.mean(cv_val['test_recall'])\n",
        "SVC_without_3_columns_specificty = np.mean(cv_val['test_specificity'])\n",
        "\n",
        "print(SVC_without_3_columns)\n",
        "print(SVC_without_3_columns_prec)\n",
        "print(SVC_without_3_columns_sensi)\n",
        "print(SVC_without_3_columns_specificty)"
      ],
      "execution_count": null,
      "outputs": [
        {
          "output_type": "stream",
          "text": [
            "1.0\n",
            "1.0\n",
            "1.0\n",
            "1.0\n"
          ],
          "name": "stdout"
        }
      ]
    },
    {
      "cell_type": "markdown",
      "metadata": {
        "id": "CzyL_Sh28mTj"
      },
      "source": [
        "Using Random Forest"
      ]
    },
    {
      "cell_type": "code",
      "metadata": {
        "colab": {
          "base_uri": "https://localhost:8080/"
        },
        "id": "-QLW-0Mo6QRi",
        "outputId": "8d07c862-d0c1-465a-c3ea-3e98c1f5faba"
      },
      "source": [
        "clf2_w=RandomForestClassifier(n_estimators=70, random_state=0, n_jobs=-1)\n",
        "scoring = {'accuracy': make_scorer(accuracy_score), 'precision': make_scorer(precision_score,average='macro'),\n",
        "            'recall': make_scorer(recall_score,average='macro'),'specificity': make_scorer(recall_score,pos_label=0)}\n",
        "\n",
        "cv = ShuffleSplit(n_splits=5)\n",
        "cv_val = cross_validate(clf2_w,L,m,cv=5,scoring=scoring)\n",
        "RF_without_3_columns = np.mean(cv_val['test_accuracy'])\n",
        "RF_without_3_columns_prec = np.mean(cv_val['test_precision'])\n",
        "RF_without_3_columns_sensi =   np.mean(cv_val['test_recall'])\n",
        "RF_without_3_columns_specificty = np.mean(cv_val['test_specificity'])\n",
        "\n",
        "print(RF_without_3_columns)\n",
        "print(RF_without_3_columns_prec)\n",
        "print(RF_without_3_columns_sensi)\n",
        "print(RF_without_3_columns_specificty)\n"
      ],
      "execution_count": null,
      "outputs": [
        {
          "output_type": "stream",
          "text": [
            "1.0\n",
            "1.0\n",
            "1.0\n",
            "1.0\n"
          ],
          "name": "stdout"
        }
      ]
    },
    {
      "cell_type": "markdown",
      "metadata": {
        "id": "iiQZUWSx9U1j"
      },
      "source": [
        "Using Knn"
      ]
    },
    {
      "cell_type": "code",
      "metadata": {
        "id": "75XnyicY9XnI"
      },
      "source": [
        "knn5_w=neighbors.KNeighborsClassifier(n_neighbors=5, n_jobs=-1)"
      ],
      "execution_count": null,
      "outputs": []
    },
    {
      "cell_type": "code",
      "metadata": {
        "colab": {
          "base_uri": "https://localhost:8080/"
        },
        "id": "UACYSY2o9lcc",
        "outputId": "4aa220cb-0dfd-4423-cd52-0430d64203c3"
      },
      "source": [
        "scoring = {'accuracy': make_scorer(accuracy_score), 'precision': make_scorer(precision_score,average='macro'),\n",
        "            'recall': make_scorer(recall_score,average='macro'),'specificity': make_scorer(recall_score,pos_label=0)}\n",
        "\n",
        "cv = ShuffleSplit(n_splits=5)\n",
        "cv_val = cross_validate(knn5_w,L,m,cv=5,scoring=scoring)\n",
        "K5_without_3_columns = np.mean(cv_val['test_accuracy'])\n",
        "K5_without_3_columns_prec = np.mean(cv_val['test_precision'])\n",
        "K5_without_3_columns_sensi =   np.mean(cv_val['test_recall'])\n",
        "K5_without_3_columns_specificty = np.mean(cv_val['test_specificity'])\n",
        "\n",
        "print(K5_without_3_columns)\n",
        "print(K5_without_3_columns_prec)\n",
        "print(K5_without_3_columns_sensi)\n",
        "print(K5_without_3_columns_specificty)"
      ],
      "execution_count": null,
      "outputs": [
        {
          "output_type": "stream",
          "text": [
            "0.8375\n",
            "0.829462067859813\n",
            "0.8393333333333335\n",
            "0.8320000000000001\n"
          ],
          "name": "stdout"
        }
      ]
    },
    {
      "cell_type": "code",
      "metadata": {
        "colab": {
          "base_uri": "https://localhost:8080/",
          "height": 347
        },
        "id": "cU598VJnImjJ",
        "outputId": "1470f0c8-fdf9-44fe-c24d-987e625fc2c1"
      },
      "source": [
        "acc1 = {\"name\":[\"Linear SVM\",\"Random Forest\",\"KNN5\"],\n",
        "        \"With_all_features\":[sl,rf,k5],\n",
        "        \"Without_rbc,rc_and_wc\":[SVC_without_3_columns,RF_without_3_columns,K5_without_3_columns]}\n",
        "WW_features_df = pd.DataFrame(acc1, columns = [\"With_all_features\",\"Without_rbc,rc_and_wc\"], index = acc1[\"name\"])\n",
        "WW_features_df.plot(kind = \"bar\")\n",
        "plt.ylim([ 0.7, 1.02])\n",
        "plt.gca().legend(loc='center left', bbox_to_anchor=(1, 0.5))"
      ],
      "execution_count": null,
      "outputs": [
        {
          "output_type": "execute_result",
          "data": {
            "text/plain": [
              "<matplotlib.legend.Legend at 0x7f53865f0890>"
            ]
          },
          "metadata": {
            "tags": []
          },
          "execution_count": 66
        },
        {
          "output_type": "display_data",
          "data": {
            "image/png": "[encoded data removed]",
            "text/plain": [
              "<Figure size 432x288 with 1 Axes>"
            ]
          },
          "metadata": {
            "tags": [],
            "needs_background": "light"
          }
        }
      ]
    },
    {
      "cell_type": "markdown",
      "metadata": {
        "id": "O-zm9VeGSYy-"
      },
      "source": [
        "So, after excluding rbc,rc and wc there is noticable change in the accuaracy. From feature importance graph (shown below) these features have more importance than few others. Besides, our dataset is quite small (only 24 features) so, we should consider result with all features over the result excluding the features (rbc,rc,wc)."
      ]
    },
    {
      "cell_type": "markdown",
      "metadata": {
        "id": "ht2ZgBOOC531"
      },
      "source": [
        "# Feature importance"
      ]
    },
    {
      "cell_type": "code",
      "metadata": {
        "colab": {
          "base_uri": "https://localhost:8080/"
        },
        "id": "S2Sq6NlEC85U",
        "outputId": "b88304a2-deb7-4397-8b70-a68a1a401089"
      },
      "source": [
        "A = df.iloc[:, 0:24]\n",
        "b = df.iloc[:, 24]\n",
        "from sklearn.ensemble import ExtraTreesClassifier\n",
        "me = ExtraTreesClassifier()\n",
        "me.fit(A,b)\n",
        ""
      ],
      "execution_count": null,
      "outputs": [
        {
          "output_type": "execute_result",
          "data": {
            "text/plain": [
              "ExtraTreesClassifier(bootstrap=False, ccp_alpha=0.0, class_weight=None,\n",
              "                     criterion='gini', max_depth=None, max_features='auto',\n",
              "                     max_leaf_nodes=None, max_samples=None,\n",
              "                     min_impurity_decrease=0.0, min_impurity_split=None,\n",
              "                     min_samples_leaf=1, min_samples_split=2,\n",
              "                     min_weight_fraction_leaf=0.0, n_estimators=100,\n",
              "                     n_jobs=None, oob_score=False, random_state=None, verbose=0,\n",
              "                     warm_start=False)"
            ]
          },
          "metadata": {
            "tags": []
          },
          "execution_count": 67
        }
      ]
    },
    {
      "cell_type": "code",
      "metadata": {
        "colab": {
          "base_uri": "https://localhost:8080/",
          "height": 284
        },
        "id": "F7RvfW9PEdpL",
        "outputId": "33fa1494-1753-436c-fb93-4315a5d1d46a"
      },
      "source": [
        "feat_importances = pd.Series(me.feature_importances_, index=A.columns)\n",
        "feat_importances.nlargest(24).plot(kind='bar')\n",
        "plt.show()"
      ],
      "execution_count": null,
      "outputs": [
        {
          "output_type": "display_data",
          "data": {
            "image/png": "[encoded data removed]",
            "text/plain": [
              "<Figure size 432x288 with 1 Axes>"
            ]
          },
          "metadata": {
            "tags": [],
            "needs_background": "light"
          }
        }
      ]
    }
  ]
}